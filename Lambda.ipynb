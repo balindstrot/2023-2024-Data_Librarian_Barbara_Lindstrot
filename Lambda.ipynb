{
 "cells": [
  {
   "cell_type": "code",
   "execution_count": 1,
   "id": "f0d94865",
   "metadata": {},
   "outputs": [],
   "source": [
    "# lambda erzeugt anonyme Funktionen"
   ]
  },
  {
   "cell_type": "code",
   "execution_count": 4,
   "id": "7ecd3353",
   "metadata": {},
   "outputs": [],
   "source": [
    "def my_upper(string):\n",
    "    return string.upper()"
   ]
  },
  {
   "cell_type": "code",
   "execution_count": 5,
   "id": "573e5576",
   "metadata": {},
   "outputs": [
    {
     "data": {
      "text/plain": [
       "'BLUB'"
      ]
     },
     "execution_count": 5,
     "metadata": {},
     "output_type": "execute_result"
    }
   ],
   "source": [
    "my_upper(\"blub\")"
   ]
  },
  {
   "cell_type": "code",
   "execution_count": null,
   "id": "a5818b08",
   "metadata": {},
   "outputs": [],
   "source": [
    "def clean_string(author_string):doi_df_first_author_2[\"first_author\"].apply(\n",
    "    lambda author: \"blub\")"
   ]
  }
 ],
 "metadata": {
  "kernelspec": {
   "display_name": "Python 3 (ipykernel)",
   "language": "python",
   "name": "python3"
  },
  "language_info": {
   "codemirror_mode": {
    "name": "ipython",
    "version": 3
   },
   "file_extension": ".py",
   "mimetype": "text/x-python",
   "name": "python",
   "nbconvert_exporter": "python",
   "pygments_lexer": "ipython3",
   "version": "3.11.5"
  }
 },
 "nbformat": 4,
 "nbformat_minor": 5
}
