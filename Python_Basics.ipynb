{
 "cells": [
  {
   "cell_type": "markdown",
   "id": "577e028b",
   "metadata": {},
   "source": [
    "# Python Einführung\n",
    "Hier lernen wir Python\n",
    "- So schreibe ich **fett**\n",
    "- So schreibe ich _kursiv_ *kursiv*"
   ]
  },
  {
   "cell_type": "code",
   "execution_count": 1,
   "id": "af1e701f",
   "metadata": {},
   "outputs": [
    {
     "name": "stdout",
     "output_type": "stream",
     "text": [
      "Hallo zusammen\n"
     ]
    }
   ],
   "source": [
    "print(\"Hallo zusammen\")"
   ]
  },
  {
   "cell_type": "code",
   "execution_count": 2,
   "id": "7ddf4b20",
   "metadata": {},
   "outputs": [
    {
     "name": "stdout",
     "output_type": "stream",
     "text": [
      "Something\n"
     ]
    }
   ],
   "source": [
    "# Dies ist ein Kommentar\n",
    "print(\"Something\")"
   ]
  },
  {
   "cell_type": "markdown",
   "id": "f312518b",
   "metadata": {},
   "source": [
    "## Einfache Datentypen"
   ]
  },
  {
   "cell_type": "code",
   "execution_count": 3,
   "id": "5d447b22",
   "metadata": {},
   "outputs": [],
   "source": [
    "# Variable mit Wertezuweisung\n",
    "name = \"Lovelace\""
   ]
  },
  {
   "cell_type": "code",
   "execution_count": 4,
   "id": "83eb0190",
   "metadata": {},
   "outputs": [
    {
     "data": {
      "text/plain": [
       "'Lovelace'"
      ]
     },
     "execution_count": 4,
     "metadata": {},
     "output_type": "execute_result"
    }
   ],
   "source": [
    "name"
   ]
  },
  {
   "cell_type": "code",
   "execution_count": 5,
   "id": "2eea96fb",
   "metadata": {},
   "outputs": [
    {
     "name": "stdout",
     "output_type": "stream",
     "text": [
      "Lovelace\n"
     ]
    }
   ],
   "source": [
    "print(name)"
   ]
  },
  {
   "cell_type": "code",
   "execution_count": 7,
   "id": "479880c8",
   "metadata": {},
   "outputs": [
    {
     "name": "stdout",
     "output_type": "stream",
     "text": [
      "Ada\n"
     ]
    }
   ],
   "source": [
    "# String / Zeichenkette\n",
    "first_name = \"Ada\"\n",
    "print(first_name)"
   ]
  },
  {
   "cell_type": "code",
   "execution_count": 8,
   "id": "ddcd6e92",
   "metadata": {},
   "outputs": [
    {
     "name": "stdout",
     "output_type": "stream",
     "text": [
      "37\n"
     ]
    }
   ],
   "source": [
    "# Integer - Ganzzahlen\n",
    "age = 37\n",
    "print(age)"
   ]
  },
  {
   "cell_type": "code",
   "execution_count": 9,
   "id": "4bf31f50",
   "metadata": {},
   "outputs": [
    {
     "name": "stdout",
     "output_type": "stream",
     "text": [
      "1.7123\n"
     ]
    }
   ],
   "source": [
    "# float - Gleitkommazahlen\n",
    "size = 1.7123\n",
    "print(size)\n",
    "\n"
   ]
  },
  {
   "cell_type": "code",
   "execution_count": 10,
   "id": "82c01265",
   "metadata": {},
   "outputs": [
    {
     "name": "stdout",
     "output_type": "stream",
     "text": [
      "True\n",
      "False\n"
     ]
    }
   ],
   "source": [
    "# Boolean - Boolscher Wert\n",
    "knows_math = True\n",
    "print(knows_math)\n",
    "likes_gardening = False\n",
    "print(likes_gardening)"
   ]
  },
  {
   "cell_type": "code",
   "execution_count": 11,
   "id": "5fa2fc80",
   "metadata": {},
   "outputs": [
    {
     "data": {
      "text/plain": [
       "str"
      ]
     },
     "execution_count": 11,
     "metadata": {},
     "output_type": "execute_result"
    }
   ],
   "source": [
    "type(name)"
   ]
  },
  {
   "cell_type": "code",
   "execution_count": 12,
   "id": "3f4a6fc3",
   "metadata": {},
   "outputs": [
    {
     "data": {
      "text/plain": [
       "'Lovelace'"
      ]
     },
     "execution_count": 12,
     "metadata": {},
     "output_type": "execute_result"
    }
   ],
   "source": [
    "name"
   ]
  },
  {
   "cell_type": "code",
   "execution_count": 15,
   "id": "979b3e87",
   "metadata": {},
   "outputs": [
    {
     "name": "stdout",
     "output_type": "stream",
     "text": [
      "Lovelace\n",
      "37\n"
     ]
    }
   ],
   "source": [
    "print(name)\n",
    "print(age)"
   ]
  },
  {
   "cell_type": "markdown",
   "id": "7446bef1",
   "metadata": {},
   "source": [
    "Operatoren"
   ]
  },
  {
   "cell_type": "code",
   "execution_count": 16,
   "id": "135aca97",
   "metadata": {},
   "outputs": [
    {
     "data": {
      "text/plain": [
       "10"
      ]
     },
     "execution_count": 16,
     "metadata": {},
     "output_type": "execute_result"
    }
   ],
   "source": [
    "5 + 5"
   ]
  },
  {
   "cell_type": "code",
   "execution_count": 17,
   "id": "30aab96d",
   "metadata": {},
   "outputs": [
    {
     "data": {
      "text/plain": [
       "3700"
      ]
     },
     "execution_count": 17,
     "metadata": {},
     "output_type": "execute_result"
    }
   ],
   "source": [
    "100 * age"
   ]
  },
  {
   "cell_type": "code",
   "execution_count": 18,
   "id": "1de98d7b",
   "metadata": {},
   "outputs": [
    {
     "data": {
      "text/plain": [
       "'LovelaceLovelace'"
      ]
     },
     "execution_count": 18,
     "metadata": {},
     "output_type": "execute_result"
    }
   ],
   "source": [
    "name + name"
   ]
  },
  {
   "cell_type": "code",
   "execution_count": 20,
   "id": "e01500fd",
   "metadata": {},
   "outputs": [
    {
     "data": {
      "text/plain": [
       "'LovelaceLovelaceLovelaceLovelaceLovelaceLovelaceLovelaceLovelaceLovelaceLovelace'"
      ]
     },
     "execution_count": 20,
     "metadata": {},
     "output_type": "execute_result"
    }
   ],
   "source": [
    "name * 10"
   ]
  },
  {
   "cell_type": "code",
   "execution_count": 21,
   "id": "b49bcef9",
   "metadata": {},
   "outputs": [
    {
     "data": {
      "text/plain": [
       "'Lovelace10'"
      ]
     },
     "execution_count": 21,
     "metadata": {},
     "output_type": "execute_result"
    }
   ],
   "source": [
    "name + \"10\""
   ]
  },
  {
   "cell_type": "code",
   "execution_count": 22,
   "id": "c2120d34",
   "metadata": {},
   "outputs": [
    {
     "data": {
      "text/plain": [
       "0.04627837837837838"
      ]
     },
     "execution_count": 22,
     "metadata": {},
     "output_type": "execute_result"
    }
   ],
   "source": [
    "size/age"
   ]
  },
  {
   "cell_type": "code",
   "execution_count": 24,
   "id": "2d343911",
   "metadata": {},
   "outputs": [
    {
     "data": {
      "text/plain": [
       "5.0"
      ]
     },
     "execution_count": 24,
     "metadata": {},
     "output_type": "execute_result"
    }
   ],
   "source": [
    "number_of_article = \"50\"\n",
    "int(number_of_article) / 10"
   ]
  },
  {
   "cell_type": "markdown",
   "id": "8977fc07",
   "metadata": {},
   "source": [
    "Funktionen und Methoden"
   ]
  },
  {
   "cell_type": "code",
   "execution_count": 25,
   "id": "fcab155b",
   "metadata": {},
   "outputs": [
    {
     "data": {
      "text/plain": [
       "8"
      ]
     },
     "execution_count": 25,
     "metadata": {},
     "output_type": "execute_result"
    }
   ],
   "source": [
    "len(name)"
   ]
  },
  {
   "cell_type": "code",
   "execution_count": 26,
   "id": "165e723d",
   "metadata": {},
   "outputs": [
    {
     "data": {
      "text/plain": [
       "'LOVELACE'"
      ]
     },
     "execution_count": 26,
     "metadata": {},
     "output_type": "execute_result"
    }
   ],
   "source": [
    "name.upper()"
   ]
  },
  {
   "cell_type": "code",
   "execution_count": 27,
   "id": "46c95968",
   "metadata": {},
   "outputs": [
    {
     "data": {
      "text/plain": [
       "2"
      ]
     },
     "execution_count": 27,
     "metadata": {},
     "output_type": "execute_result"
    }
   ],
   "source": [
    "name.count(\"e\")"
   ]
  },
  {
   "cell_type": "code",
   "execution_count": 31,
   "id": "7d72192f",
   "metadata": {},
   "outputs": [
    {
     "data": {
      "text/plain": [
       "1"
      ]
     },
     "execution_count": 31,
     "metadata": {},
     "output_type": "execute_result"
    }
   ],
   "source": [
    "name.count(\"l\")"
   ]
  },
  {
   "cell_type": "code",
   "execution_count": 32,
   "id": "e837a0cd",
   "metadata": {},
   "outputs": [
    {
     "data": {
      "text/plain": [
       "'Love is everywhere'"
      ]
     },
     "execution_count": 32,
     "metadata": {},
     "output_type": "execute_result"
    }
   ],
   "source": [
    "name.replace(\"lace\", \" is everywhere\")"
   ]
  },
  {
   "cell_type": "code",
   "execution_count": 33,
   "id": "88a5187a",
   "metadata": {},
   "outputs": [
    {
     "data": {
      "text/plain": [
       "'Lovelace'"
      ]
     },
     "execution_count": 33,
     "metadata": {},
     "output_type": "execute_result"
    }
   ],
   "source": [
    "name"
   ]
  },
  {
   "cell_type": "markdown",
   "id": "56eb3c51",
   "metadata": {},
   "source": [
    "## Listen und Dictionaries"
   ]
  },
  {
   "cell_type": "code",
   "execution_count": 34,
   "id": "2b3f4550",
   "metadata": {},
   "outputs": [],
   "source": [
    "names = [\"Lovelace\", \"Darwin\", \"Noether\", \"Hawking\"]"
   ]
  },
  {
   "cell_type": "code",
   "execution_count": 35,
   "id": "c876003c",
   "metadata": {},
   "outputs": [
    {
     "data": {
      "text/plain": [
       "['Lovelace', 'Darwin', 'Noether', 'Hawking']"
      ]
     },
     "execution_count": 35,
     "metadata": {},
     "output_type": "execute_result"
    }
   ],
   "source": [
    "names"
   ]
  },
  {
   "cell_type": "code",
   "execution_count": 36,
   "id": "4309a0cc",
   "metadata": {},
   "outputs": [
    {
     "data": {
      "text/plain": [
       "'Noether'"
      ]
     },
     "execution_count": 36,
     "metadata": {},
     "output_type": "execute_result"
    }
   ],
   "source": [
    "names[2]"
   ]
  },
  {
   "cell_type": "code",
   "execution_count": 37,
   "id": "7e008923",
   "metadata": {},
   "outputs": [
    {
     "data": {
      "text/plain": [
       "'Hawking'"
      ]
     },
     "execution_count": 37,
     "metadata": {},
     "output_type": "execute_result"
    }
   ],
   "source": [
    "names[-1]"
   ]
  },
  {
   "cell_type": "code",
   "execution_count": 38,
   "id": "202b8329",
   "metadata": {},
   "outputs": [
    {
     "data": {
      "text/plain": [
       "['Lovelace', 'Darwin', 'Noether']"
      ]
     },
     "execution_count": 38,
     "metadata": {},
     "output_type": "execute_result"
    }
   ],
   "source": [
    "names[0:3]"
   ]
  },
  {
   "cell_type": "code",
   "execution_count": 40,
   "id": "66d90015",
   "metadata": {},
   "outputs": [],
   "source": [
    "authors_and_birth_years = {\"Lovelace\" : 1815, \n",
    "                           \"Darwin\" : 1809, \n",
    "                           \"Noether\" : 1882,\n",
    "                           \"Hawking\" : 1942}\n",
    "                           "
   ]
  },
  {
   "cell_type": "code",
   "execution_count": 41,
   "id": "2cb74397",
   "metadata": {},
   "outputs": [
    {
     "data": {
      "text/plain": [
       "1809"
      ]
     },
     "execution_count": 41,
     "metadata": {},
     "output_type": "execute_result"
    }
   ],
   "source": [
    "authors_and_birth_years[\"Darwin\"]"
   ]
  },
  {
   "cell_type": "markdown",
   "id": "6f4e8e5d",
   "metadata": {},
   "source": [
    "for-Schleife"
   ]
  },
  {
   "cell_type": "code",
   "execution_count": 45,
   "id": "42aaf548",
   "metadata": {},
   "outputs": [
    {
     "name": "stdout",
     "output_type": "stream",
     "text": [
      "Lovelace did awesome stuff\n",
      "Darwin did awesome stuff\n",
      "Noether did awesome stuff\n",
      "Hawking did awesome stuff\n",
      "-------------------------------\n"
     ]
    }
   ],
   "source": [
    "for person in names:\n",
    "    print(person + \" did awesome stuff\")\n",
    "print(\"-------------------------------\")    "
   ]
  },
  {
   "cell_type": "markdown",
   "id": "0df99462",
   "metadata": {},
   "source": [
    "## Bedingte Anweisungen (Conditionals)"
   ]
  },
  {
   "cell_type": "code",
   "execution_count": 52,
   "id": "160faa60",
   "metadata": {},
   "outputs": [],
   "source": [
    "temp = 10\n",
    "if temp > 20:\n",
    "    print(\"Es ist warm.\")    "
   ]
  },
  {
   "cell_type": "code",
   "execution_count": 51,
   "id": "03160ba7",
   "metadata": {},
   "outputs": [
    {
     "name": "stdout",
     "output_type": "stream",
     "text": [
      "Es ist kalt.\n"
     ]
    }
   ],
   "source": [
    "temp = 10\n",
    "if temp > 20:\n",
    "    print(\"Es ist warm.\")\n",
    "else:\n",
    "    print(\"Es ist kalt.\")\n",
    "    "
   ]
  },
  {
   "cell_type": "code",
   "execution_count": 53,
   "id": "d4e27734",
   "metadata": {},
   "outputs": [
    {
     "name": "stdout",
     "output_type": "stream",
     "text": [
      "Es ist warm.\n"
     ]
    }
   ],
   "source": [
    "temp = 15\n",
    "if temp > 25:\n",
    "    print(\"Es ist heiß.\")\n",
    "elif temp >= 15:\n",
    "    print(\"Es ist warm.\")\n",
    "else:\n",
    "    print(\"Es ist kalt.\")"
   ]
  },
  {
   "cell_type": "code",
   "execution_count": null,
   "id": "a5ac40ae",
   "metadata": {},
   "outputs": [],
   "source": []
  }
 ],
 "metadata": {
  "kernelspec": {
   "display_name": "Python 3 (ipykernel)",
   "language": "python",
   "name": "python3"
  },
  "language_info": {
   "codemirror_mode": {
    "name": "ipython",
    "version": 3
   },
   "file_extension": ".py",
   "mimetype": "text/x-python",
   "name": "python",
   "nbconvert_exporter": "python",
   "pygments_lexer": "ipython3",
   "version": "3.11.5"
  }
 },
 "nbformat": 4,
 "nbformat_minor": 5
}
