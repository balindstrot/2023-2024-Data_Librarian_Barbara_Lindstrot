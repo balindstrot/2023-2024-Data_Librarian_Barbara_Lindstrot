{
 "cells": [
  {
   "cell_type": "code",
   "execution_count": 2,
   "id": "a1321a8c",
   "metadata": {},
   "outputs": [],
   "source": [
    "import json"
   ]
  },
  {
   "cell_type": "code",
   "execution_count": null,
   "id": "29c213dc",
   "metadata": {},
   "outputs": [],
   "source": [
    "url = \"https://www.bibsonomy.org/json/search/Data%20Librar*?items=1000\""
   ]
  },
  {
   "cell_type": "code",
   "execution_count": null,
   "id": "6eb51a9f",
   "metadata": {},
   "outputs": [],
   "source": [
    "with open('bibsonomy_suchergebnis.json','w') as outfile:\n",
    "    json.dump(daten_strukturiert, outfile)"
   ]
  }
 ],
 "metadata": {
  "kernelspec": {
   "display_name": "Python 3 (ipykernel)",
   "language": "python",
   "name": "python3"
  },
  "language_info": {
   "codemirror_mode": {
    "name": "ipython",
    "version": 3
   },
   "file_extension": ".py",
   "mimetype": "text/x-python",
   "name": "python",
   "nbconvert_exporter": "python",
   "pygments_lexer": "ipython3",
   "version": "3.11.5"
  }
 },
 "nbformat": 4,
 "nbformat_minor": 5
}
