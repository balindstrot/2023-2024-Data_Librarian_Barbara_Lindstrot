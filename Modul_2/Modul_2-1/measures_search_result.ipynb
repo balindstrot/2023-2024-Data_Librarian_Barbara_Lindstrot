{
 "cells": [
  {
   "cell_type": "code",
   "execution_count": 55,
   "id": "5d7be25f-3eb8-4af7-9c25-15cf874ea5f7",
   "metadata": {},
   "outputs": [
    {
     "name": "stdout",
     "output_type": "stream",
     "text": [
      "Requirement already satisfied: python-terrier in /home/barbara/anaconda3/lib/python3.8/site-packages (0.10.0)\n",
      "Requirement already satisfied: numpy in /home/barbara/anaconda3/lib/python3.8/site-packages (from python-terrier) (1.24.3)\n",
      "Requirement already satisfied: pandas in /home/barbara/anaconda3/lib/python3.8/site-packages (from python-terrier) (2.0.3)\n",
      "Requirement already satisfied: wget in /home/barbara/anaconda3/lib/python3.8/site-packages (from python-terrier) (3.2)\n",
      "Requirement already satisfied: tqdm in /home/barbara/anaconda3/lib/python3.8/site-packages (from python-terrier) (4.65.0)\n",
      "Requirement already satisfied: pyjnius>=1.4.2 in /home/barbara/anaconda3/lib/python3.8/site-packages (from python-terrier) (1.6.1)\n",
      "Requirement already satisfied: matchpy in /home/barbara/anaconda3/lib/python3.8/site-packages (from python-terrier) (0.5.5)\n",
      "Requirement already satisfied: scikit-learn in /home/barbara/anaconda3/lib/python3.8/site-packages (from python-terrier) (1.3.0)\n",
      "Requirement already satisfied: deprecated in /home/barbara/anaconda3/lib/python3.8/site-packages (from python-terrier) (1.2.14)\n",
      "Requirement already satisfied: chest in /home/barbara/anaconda3/lib/python3.8/site-packages (from python-terrier) (0.2.3)\n",
      "Requirement already satisfied: scipy in /home/barbara/anaconda3/lib/python3.8/site-packages (from python-terrier) (1.10.1)\n",
      "Requirement already satisfied: requests in /home/barbara/anaconda3/lib/python3.8/site-packages (from python-terrier) (2.31.0)\n",
      "Requirement already satisfied: joblib in /home/barbara/anaconda3/lib/python3.8/site-packages (from python-terrier) (1.2.0)\n",
      "Requirement already satisfied: nptyping==1.4.4 in /home/barbara/anaconda3/lib/python3.8/site-packages (from python-terrier) (1.4.4)\n",
      "Requirement already satisfied: more-itertools in /home/barbara/anaconda3/lib/python3.8/site-packages (from python-terrier) (8.12.0)\n",
      "Requirement already satisfied: ir-datasets>=0.3.2 in /home/barbara/anaconda3/lib/python3.8/site-packages (from python-terrier) (0.5.5)\n",
      "Requirement already satisfied: jinja2 in /home/barbara/anaconda3/lib/python3.8/site-packages (from python-terrier) (3.1.2)\n",
      "Requirement already satisfied: statsmodels in /home/barbara/anaconda3/lib/python3.8/site-packages (from python-terrier) (0.14.0)\n",
      "Requirement already satisfied: ir-measures>=0.3.1 in /home/barbara/anaconda3/lib/python3.8/site-packages (from python-terrier) (0.3.3)\n",
      "Requirement already satisfied: dill in /home/barbara/anaconda3/lib/python3.8/site-packages (from python-terrier) (0.3.6)\n",
      "Requirement already satisfied: pytrec-eval-terrier>=0.5.3 in /home/barbara/anaconda3/lib/python3.8/site-packages (from python-terrier) (0.5.6)\n",
      "Requirement already satisfied: typish>=1.7.0 in /home/barbara/anaconda3/lib/python3.8/site-packages (from nptyping==1.4.4->python-terrier) (1.9.3)\n",
      "Requirement already satisfied: beautifulsoup4>=4.4.1 in /home/barbara/anaconda3/lib/python3.8/site-packages (from ir-datasets>=0.3.2->python-terrier) (4.12.2)\n",
      "Requirement already satisfied: inscriptis>=2.2.0 in /home/barbara/anaconda3/lib/python3.8/site-packages (from ir-datasets>=0.3.2->python-terrier) (2.4.0.1)\n",
      "Requirement already satisfied: lxml>=4.5.2 in /home/barbara/anaconda3/lib/python3.8/site-packages (from ir-datasets>=0.3.2->python-terrier) (4.9.3)\n",
      "Requirement already satisfied: pyyaml>=5.3.1 in /home/barbara/anaconda3/lib/python3.8/site-packages (from ir-datasets>=0.3.2->python-terrier) (6.0.1)\n",
      "Requirement already satisfied: trec-car-tools>=2.5.4 in /home/barbara/anaconda3/lib/python3.8/site-packages (from ir-datasets>=0.3.2->python-terrier) (2.6)\n",
      "Requirement already satisfied: lz4>=3.1.10 in /home/barbara/anaconda3/lib/python3.8/site-packages (from ir-datasets>=0.3.2->python-terrier) (4.3.2)\n",
      "Requirement already satisfied: warc3-wet>=0.2.3 in /home/barbara/anaconda3/lib/python3.8/site-packages (from ir-datasets>=0.3.2->python-terrier) (0.2.3)\n",
      "Requirement already satisfied: warc3-wet-clueweb09>=0.2.5 in /home/barbara/anaconda3/lib/python3.8/site-packages (from ir-datasets>=0.3.2->python-terrier) (0.2.5)\n",
      "Requirement already satisfied: zlib-state>=0.1.3 in /home/barbara/anaconda3/lib/python3.8/site-packages (from ir-datasets>=0.3.2->python-terrier) (0.1.6)\n",
      "Requirement already satisfied: ijson>=3.1.3 in /home/barbara/anaconda3/lib/python3.8/site-packages (from ir-datasets>=0.3.2->python-terrier) (3.2.3)\n",
      "Requirement already satisfied: pyautocorpus>=0.1.1 in /home/barbara/anaconda3/lib/python3.8/site-packages (from ir-datasets>=0.3.2->python-terrier) (0.1.12)\n",
      "Requirement already satisfied: unlzw3>=0.2.1 in /home/barbara/anaconda3/lib/python3.8/site-packages (from ir-datasets>=0.3.2->python-terrier) (0.2.2)\n",
      "Requirement already satisfied: cwl-eval>=1.0.10 in /home/barbara/anaconda3/lib/python3.8/site-packages (from ir-measures>=0.3.1->python-terrier) (1.0.12)\n",
      "Requirement already satisfied: charset-normalizer<4,>=2 in /home/barbara/anaconda3/lib/python3.8/site-packages (from requests->python-terrier) (2.0.4)\n",
      "Requirement already satisfied: idna<4,>=2.5 in /home/barbara/anaconda3/lib/python3.8/site-packages (from requests->python-terrier) (3.4)\n",
      "Requirement already satisfied: urllib3<3,>=1.21.1 in /home/barbara/anaconda3/lib/python3.8/site-packages (from requests->python-terrier) (1.26.18)\n",
      "Requirement already satisfied: certifi>=2017.4.17 in /home/barbara/anaconda3/lib/python3.8/site-packages (from requests->python-terrier) (2023.11.17)\n",
      "Requirement already satisfied: heapdict in /home/barbara/anaconda3/lib/python3.8/site-packages (from chest->python-terrier) (1.0.1)\n",
      "Requirement already satisfied: wrapt<2,>=1.10 in /home/barbara/anaconda3/lib/python3.8/site-packages (from deprecated->python-terrier) (1.14.1)\n",
      "Requirement already satisfied: MarkupSafe>=2.0 in /home/barbara/anaconda3/lib/python3.8/site-packages (from jinja2->python-terrier) (2.1.3)\n",
      "Requirement already satisfied: multiset<3.0,>=2.0 in /home/barbara/anaconda3/lib/python3.8/site-packages (from matchpy->python-terrier) (2.1.1)\n",
      "Requirement already satisfied: python-dateutil>=2.8.2 in /home/barbara/anaconda3/lib/python3.8/site-packages (from pandas->python-terrier) (2.8.2)\n",
      "Requirement already satisfied: pytz>=2020.1 in /home/barbara/anaconda3/lib/python3.8/site-packages (from pandas->python-terrier) (2023.3.post1)\n",
      "Requirement already satisfied: tzdata>=2022.1 in /home/barbara/anaconda3/lib/python3.8/site-packages (from pandas->python-terrier) (2023.3)\n",
      "Requirement already satisfied: threadpoolctl>=2.0.0 in /home/barbara/anaconda3/lib/python3.8/site-packages (from scikit-learn->python-terrier) (2.2.0)\n",
      "Requirement already satisfied: patsy>=0.5.2 in /home/barbara/anaconda3/lib/python3.8/site-packages (from statsmodels->python-terrier) (0.5.3)\n",
      "Requirement already satisfied: packaging>=21.3 in /home/barbara/anaconda3/lib/python3.8/site-packages (from statsmodels->python-terrier) (23.1)\n",
      "Requirement already satisfied: soupsieve>1.2 in /home/barbara/anaconda3/lib/python3.8/site-packages (from beautifulsoup4>=4.4.1->ir-datasets>=0.3.2->python-terrier) (2.5)\n",
      "Requirement already satisfied: six in /home/barbara/anaconda3/lib/python3.8/site-packages (from patsy>=0.5.2->statsmodels->python-terrier) (1.16.0)\n",
      "Requirement already satisfied: cbor>=1.0.0 in /home/barbara/anaconda3/lib/python3.8/site-packages (from trec-car-tools>=2.5.4->ir-datasets>=0.3.2->python-terrier) (1.0.0)\n",
      "Note: you may need to restart the kernel to use updated packages.\n"
     ]
    }
   ],
   "source": [
    "pip install python-terrier"
   ]
  },
  {
   "cell_type": "code",
   "execution_count": 58,
   "id": "921b5800-ac01-418a-ac64-1b7a5069ccb8",
   "metadata": {},
   "outputs": [],
   "source": [
    "import pyterrier as pt\n",
    "import numpy as np\n",
    "import requests\n",
    "import pandas as pd\n",
    "import pickle\n",
    "import nltk\n",
    "import numpy as n\n",
    "from pyterrier.measures import *\n"
   ]
  },
  {
   "cell_type": "code",
   "execution_count": 59,
   "id": "0e62e1f7-ec9e-490e-ae87-d94f84c2bc96",
   "metadata": {},
   "outputs": [
    {
     "name": "stdout",
     "output_type": "stream",
     "text": [
      "Requirement already satisfied: nltk in /home/barbara/anaconda3/lib/python3.8/site-packages (3.8.1)\n",
      "Requirement already satisfied: click in /home/barbara/anaconda3/lib/python3.8/site-packages (from nltk) (8.1.7)\n",
      "Requirement already satisfied: joblib in /home/barbara/anaconda3/lib/python3.8/site-packages (from nltk) (1.2.0)\n",
      "Requirement already satisfied: regex>=2021.8.3 in /home/barbara/anaconda3/lib/python3.8/site-packages (from nltk) (2023.10.3)\n",
      "Requirement already satisfied: tqdm in /home/barbara/anaconda3/lib/python3.8/site-packages (from nltk) (4.65.0)\n",
      "Note: you may need to restart the kernel to use updated packages.\n"
     ]
    }
   ],
   "source": [
    "pip install nltk"
   ]
  },
  {
   "cell_type": "code",
   "execution_count": 60,
   "id": "a9e8f0b0-3149-48e2-a78e-89b27a32159e",
   "metadata": {},
   "outputs": [],
   "source": [
    "url = \"https://www.bibsonomy.org/json/search/Jülich?duplicates=merged\""
   ]
  },
  {
   "cell_type": "code",
   "execution_count": 61,
   "id": "8a82cdb1-eee5-46c8-95cb-7f760e0b3bc7",
   "metadata": {},
   "outputs": [],
   "source": [
    "ergebnis = requests.get(url)"
   ]
  },
  {
   "cell_type": "code",
   "execution_count": 62,
   "id": "a745516e-aa89-43c9-80d8-a769b6c91ce8",
   "metadata": {},
   "outputs": [],
   "source": [
    "daten = ergebnis.json()"
   ]
  },
  {
   "cell_type": "code",
   "execution_count": 63,
   "id": "1e091bcf-708e-46b8-9c85-23f5ef388fd0",
   "metadata": {},
   "outputs": [
    {
     "name": "stdout",
     "output_type": "stream",
     "text": [
      "dict_keys(['types', 'properties', 'items'])\n"
     ]
    }
   ],
   "source": [
    "print(daten.keys())"
   ]
  },
  {
   "cell_type": "code",
   "execution_count": 64,
   "id": "ab43e325-b807-4c9d-b68b-fa93d4429c58",
   "metadata": {},
   "outputs": [
    {
     "name": "stdout",
     "output_type": "stream",
     "text": [
      "{'types': {'Bookmark': {'pluralLabel': 'Bookmarks'}, 'Publication': {'pluralLabel': 'Publications'}, 'GoldStandardPublication': {'pluralLabel': 'GoldStandardPublications'}, 'GoldStandardBookmark': {'pluralLabel': 'GoldStandardBookmarks'}, 'Tag': {'pluralLabel': 'Tags'}, 'User': {'pluralLabel': 'Users'}, 'Group': {'pluralLabel': 'Groups'}, 'Sphere': {'pluralLabel': 'Spheres'}}, 'properties': {'count': {'valueType': 'number'}, 'date': {'valueType': 'date'}, 'changeDate': {'valueType': 'date'}, 'url': {'valueType': 'url'}, 'id': {'valueType': 'url'}, 'tags': {'valueType': 'item'}, 'user': {'valueType': 'item'}}, 'items': [{'type': 'Bookmark', 'id': 'https://www.bibsonomy.org/url/e5557907b1206e81eb5d65bf5758fb5d/alberska', 'tags': ['inm', 'ethic', 'studies', 'medical_imaging', 'institute', 'internship', 'neurocience', 'cognitive_neurosciences', 'research'], 'intraHash': 'e5557907b1206e81eb5d65bf5758fb5d', 'label': 'Forschungszentrum Jülich - INM', 'user': 'alberska', 'description': 'Institut für Neurowissenschaften und Medizin - Jülich Forschungszentrum.', 'date': '2018-12-12 22:27:23', 'changeDate': '2018-12-12 22:29:52', 'count': 1, 'url': 'http://www.fz-juelich.de/inm/DE/Home/home_node.html'}, {'type': 'Bookmark', 'id': 'https://www.bibsonomy.org/url/f6ac83276c20b9aecaa6a6fa786cce40/torstenschuenemann', 'tags': ['Innovation', 'Lernwerkstatt', 'LW1'], 'intraHash': 'f6ac83276c20b9aecaa6a6fa786cce40', 'label': 'heise online - RWTH Aachen und Forschungszentrum Jülich kooperieren', 'user': 'torstenschuenemann', 'description': 'RWTH Aachen und Forschungszentrum Jülich kooperieren', 'date': '2007-08-06 18:02:08', 'changeDate': '2008-06-01 22:04:56', 'count': 1, 'url': 'http://www.heise.de/newsticker/meldung/93915/from/rss09'}, {'type': 'Bookmark', 'id': 'https://www.bibsonomy.org/url/e8161c5dc17bb1c9376898c37756c1a8/schmidt2', 'tags': ['jülich', 'forschungszentrum', 'bottleneck', 'phenotyping', 'phänotypisierung'], 'intraHash': 'e8161c5dc17bb1c9376898c37756c1a8', 'label': 'Forschungszentrum Jülich - Forschung - Phänotypisierung', 'user': 'schmidt2', 'description': 'Phänotypisierung ist die quantitative Analyse pflanzlicher Strukturen und Funktionen. Die quantitative Analyse von strukturellen und funktionellen Eigenschaften ist der Schlüssel, mit dem Grundlagenwissen in die Praxis von Landwirtschaft, aber auch in die ökologische Forschung überführt wird. In der Grundlagenforschung ist die Phänotypisierung das bottle-neck für Erkenntnisgewinn in der funktionellen Genomforschung.', 'date': '2013-02-13 15:55:45', 'changeDate': '2013-02-13 15:55:45', 'count': 1, 'url': 'https://www.fz-juelich.de/ibg/ibg-2/DE/Forschung/Ph%C3%A4notypisierung/artikel.html?nn=548268'}, {'type': 'Bookmark', 'id': 'https://www.bibsonomy.org/url/ce228a1fd03d4ca5b798187e650f9d55/schmidt2', 'tags': ['jülich', 'jppc', 'phenotyping'], 'intraHash': 'ce228a1fd03d4ca5b798187e650f9d55', 'label': 'JPPC: the Jülich Plant Phenotyping Centre at the Forschungszentrum Jülich ICG-3 - Phytosphere', 'user': 'schmidt2', 'description': '', 'date': '2011-09-22 13:45:30', 'changeDate': '2011-09-22 13:48:48', 'count': 1, 'url': 'http://www2.fz-juelich.de/icg/icg-3/jppc'}, {'type': 'Bookmark', 'id': 'https://www.bibsonomy.org/url/0ac911d2dc1c1db4e66681f544205e13/schmidt2', 'tags': ['jülich', 'forschungszentrum', 'whitepaper', 'phenotyping'], 'intraHash': '0ac911d2dc1c1db4e66681f544205e13', 'label': 'Forschungszentrum Jülich - White Paper Phenotyping (2009)', 'user': 'schmidt2', 'description': '', 'date': '2013-02-13 15:56:06', 'changeDate': '2013-02-13 15:56:06', 'count': 1, 'url': 'https://www.fz-juelich.de/ibg/ibg-2/DE/_SharedDocs/Dokumente/2009%20White%20Paper%20Phenotyping/_node.html'}, {'type': 'Bookmark', 'id': 'https://www.bibsonomy.org/url/8aef4d1d71e4d0cf89c6de848cc8d557/vitelot', 'tags': ['Chrome', 'stack', 'Bookmarks_Bar'], 'intraHash': '8aef4d1d71e4d0cf89c6de848cc8d557', 'label': 'Young Investigators Group Leader - Forschungszentrum Jülich | Academic Positions Europe', 'user': 'vitelot', 'description': '', 'date': '2017-08-14 13:30:39', 'changeDate': '2017-08-14 13:43:37', 'count': 1, 'url': 'http://academicpositions.eu/ad/forschungszentrum-julich/2015/young-investigators-group-leader/60012/'}, {'type': 'Bookmark', 'id': 'https://www.bibsonomy.org/url/dab6f0c6641226f2fa25f30dd284dedc/danilola', 'tags': ['bibliothek', 'schule', 'bibinalert', 'angebot', 'deutschlandliest', 'benutzer_in', 'öb', 'aktion'], 'intraHash': 'dab6f0c6641226f2fa25f30dd284dedc', 'label': 'AZ-Web.de - Schüler finden in Stadtbücherei Jülich ihren Platz', 'user': 'danilola', 'description': 'Jülich. Nach dem erfolgreichen Jahr 2008, in dem die Stadtbücherei Jülicher Leseratten zahlreiche aufregende Aktionen rund um Bücher und Literatur bot, hat ihr Leiter, Werner Wieczoreck, eine positive Bilanz gezogen.  Besonders die Aktion «Deutschland liest sei sehr gut angekommen.', 'date': '2009-01-27 07:37:39', 'changeDate': '2009-07-16 18:14:35', 'count': 1, 'url': 'http://www.az-web.de/lokales/juelich-detail-az/792817?_link=&skip=&_g=Schueler-finden-in-Stadtbuecherei-Juelich-ihren-Platz.html'}, {'type': 'Bookmark', 'id': 'https://www.bibsonomy.org/url/d8287ab5eaafea553c4e0b0a4b952da9/flimm', 'tags': ['kinder'], 'intraHash': 'd8287ab5eaafea553c4e0b0a4b952da9', 'label': 'Brückenkopf-Park Jülich', 'user': 'flimm', 'description': '', 'date': '2010-04-06 13:05:11', 'changeDate': '2010-04-06 13:05:11', 'count': 1, 'url': 'http://www.brueckenkopf-park.de/'}, {'type': 'Bookmark', 'id': 'https://www.bibsonomy.org/url/524cd4378bf6be541d8a3835d42445b7/anabas', 'tags': ['web2.0', 'library2.0', 'del.icio.us', 'social_media'], 'intraHash': '524cd4378bf6be541d8a3835d42445b7', 'label': 'Delicious am FZ Jülich', 'user': 'anabas', 'description': '', 'date': '2010-08-30 13:43:48', 'changeDate': '2010-09-23 14:43:50', 'count': 1, 'url': 'http://www.fz-juelich.de/zb/datapool/general/tutorial_delicious_praesentation.pdf'}, {'type': 'Bookmark', 'id': 'https://www.bibsonomy.org/url/a477450f82d7967c9f8a73a9d57a8545/sjanzen', 'tags': ['materials'], 'intraHash': 'a477450f82d7967c9f8a73a9d57a8545', 'label': 'Projektträger Jülich Werkstofftechnologien', 'user': 'sjanzen', 'description': '', 'date': '2011-11-10 15:01:50', 'changeDate': '2011-11-11 08:48:54', 'count': 1, 'url': 'http://www.fz-juelich.de/ptj/werkstofftechnologien'}, {'type': 'Bookmark', 'id': 'https://www.bibsonomy.org/url/922a7fe7d8f824f8d7ac292d6434ae5e/maier', 'tags': ['eLearning'], 'intraHash': '922a7fe7d8f824f8d7ac292d6434ae5e', 'label': 'GoInfo: Online-Tutorial FZ Jülich', 'user': 'maier', 'description': '', 'date': '2008-08-25 16:11:09', 'changeDate': '2008-08-25 16:11:10', 'count': 1, 'url': 'http://wwwzb.zb.kfa-juelich.de/goinfo/inhalt.htm'}, {'type': 'Bookmark', 'id': 'https://www.bibsonomy.org/url/4e101d8db00d532b775529b4d8e4254c/robingarcia', 'tags': ['Weitere_Lesezeichen'], 'intraHash': '4e101d8db00d532b775529b4d8e4254c', 'label': 'Projektträger Jülich: Systemmedizin der Leber - LiSyM', 'user': 'robingarcia', 'description': '', 'date': '2017-03-17 10:35:12', 'changeDate': '2017-04-13 10:01:50', 'count': 1, 'url': 'https://www.ptj.de/lisym'}, {'type': 'Bookmark', 'id': 'https://www.bibsonomy.org/url/980c4f1ebb929d9e3afb25a5cfbeada5/danilola', 'tags': ['kinder', 'leitung', 'bibliothek', 'schule', 'bibinalert', 'personal', 'angebot', '2009-02', 'kooperation', 'leseförderung', 'öb', 'stadtbibliothek'], 'intraHash': '980c4f1ebb929d9e3afb25a5cfbeada5', 'label': 'Das JüLichT - Stadtteile: Stadtbücherei Jülich plant Lesecafé, Theatergruppe und School Corner', 'user': 'danilola', 'description': 'Von seiner besten Seite zeigt sich der neue Leiter der Jülicher Stadtbücherei Werner Wieczorek: Ein erfolgreiches erstes Jahr liegt hinter ihm. Auch, wenn der Bibliothekar auf die gute Arbeit seiner Vorgängerin Christa Bartels bauen konnte, stellt er seine eigenen Weichen.', 'date': '2009-02-15 10:01:25', 'changeDate': '2009-07-16 18:14:24', 'count': 1, 'url': 'http://www.das-juelicht.de/nachrichten/artikel/8400.php'}, {'type': 'Bookmark', 'id': 'https://www.bibsonomy.org/url/9220d5e71e2f2cceed6b0bffc5087917/a_olympia', 'tags': ['aachen', 'j'], 'intraHash': '9220d5e71e2f2cceed6b0bffc5087917', 'label': 'heise online - RWTH Aachen und Forschungszentrum Jülich kooperieren', 'user': 'a_olympia', 'description': '', 'date': '2007-08-06 21:53:41', 'changeDate': '2007-08-18 13:01:15', 'count': 1, 'url': 'http://www.heise.de/newsticker/meldung/93915'}, {'type': 'Bookmark', 'id': 'https://www.bibsonomy.org/url/dc6fc99e2644a226b740c4b154b7f309/schmidt2', 'tags': ['overview', 'technologies', 'jppc'], 'intraHash': 'dc6fc99e2644a226b740c4b154b7f309', 'label': 'ICG-3 JPPC-Jülich Plant Phenotyping Centre: technologies for plant phenotyping', 'user': 'schmidt2', 'description': '', 'date': '2011-09-22 13:47:04', 'changeDate': '2011-09-22 13:48:40', 'count': 1, 'url': 'http://www2.fz-juelich.de/icg/icg-3/jppc/methods'}, {'type': 'Bookmark', 'id': 'https://www.bibsonomy.org/url/f4e405abc3e878a4b48f83f1b70dc947/schmidt2', 'tags': ['2009', 'slides', 'workshop', 'epso', 'jppc'], 'intraHash': 'f4e405abc3e878a4b48f83f1b70dc947', 'label': 'Jülich Plant Phenotyping Centre - JPPC - EPSO Workshop 2009 on Plant Phenotyping', 'user': 'schmidt2', 'description': '', 'date': '2011-09-22 13:53:29', 'changeDate': '2011-09-22 13:53:29', 'count': 1, 'url': 'http://www.plantphenomics.com/phenotyping2009/'}, {'type': 'Bookmark', 'id': 'https://www.bibsonomy.org/url/f2a9dd3e4de40be3fec437bcc963547b/swatschi', 'tags': ['lv_wisskomm', 'conference', 'theory'], 'intraHash': 'f2a9dd3e4de40be3fec437bcc963547b', 'label': 'JUWEL - Volltextserver des Forschungszentrums Jülich: Item 2128/2893', 'user': 'swatschi', 'description': '', 'date': '2008-03-13 17:10:03', 'changeDate': '2008-03-13 17:10:03', 'count': 2, 'url': 'http://juwel.fz-juelich.de:8080/dspace/handle/2128/2893'}, {'type': 'Bookmark', 'id': 'https://www.bibsonomy.org/url/c2ca92adaf56a3e73eb31a138af7cd53/dblp', 'tags': ['dblp'], 'intraHash': 'c2ca92adaf56a3e73eb31a138af7cd53', 'label': 'Home Page of Bin A. Wang and Bin Wang', 'user': 'dblp', 'description': 'homepages/193/8273,\\nBin A. Wang and Bin Wang, Home Page, https://www.wikidata.org/entity/Q87293810, Research Centre Jülich, Institute of Neuroscience and Medicine, Jülich, Germany', 'date': '2020-09-09 15:20:09', 'changeDate': '2020-09-09 15:20:09', 'count': 1, 'url': 'https://www.wikidata.org/entity/Q87293810'}, {'type': 'Bookmark', 'id': 'https://www.bibsonomy.org/url/f3a456f8900d2a3976fdf0bc73c36b8c/dblp', 'tags': ['dblp'], 'intraHash': 'f3a456f8900d2a3976fdf0bc73c36b8c', 'label': 'Home Page of Tao Liu', 'user': 'dblp', 'description': 'homepages/43/656-15,\\nTao Liu, Home Page, https://www.researchgate.net/profile/Tao_Liu142, Forschungszentrum Jülich, Germany', 'date': '2020-05-21 11:59:32', 'changeDate': '2020-05-21 11:59:32', 'count': 1, 'url': 'https://www.researchgate.net/profile/Tao_Liu142'}, {'type': 'Bookmark', 'id': 'https://www.bibsonomy.org/url/258e8e47d605fa39f4aa11bcd4aa53ce/dblp', 'tags': ['dblp'], 'intraHash': '258e8e47d605fa39f4aa11bcd4aa53ce', 'label': 'Home Page of Stefanie Haustein', 'user': 'dblp', 'description': 'homepages/03/9465,\\nStefanie Haustein, Home Page, https://id.loc.gov/authorities/names/n2012030867, Forschungszentrum Jülich', 'date': '2020-09-19 12:14:33', 'changeDate': '2020-09-19 12:14:33', 'count': 1, 'url': 'https://id.loc.gov/authorities/names/n2012030867'}, {'type': 'Publication', 'id': 'https://www.bibsonomy.org/bibtex/2bdae1e1df978095e1597b14122974d9c/acka47', 'tags': ['scholarly_communication'], 'intraHash': 'bdae1e1df978095e1597b14122974d9c', 'interHash': '1742fc85a1bfb71a1c9ba26c50fe05e4', 'label': 'Wissenschaftskommunikation der Zukunft', 'user': 'acka47', 'description': '4. Konferenz der Zentralbibliothek Forschungszentrum Jülich. 6. - 8. November 2007 ; Beiträge und Poster', 'date': '2009-06-08 11:42:22', 'changeDate': '2009-06-08 11:42:22', 'count': 1, 'pub-type': 'book', 'series': 'Konferenz der Zentralbibliothek, Forschungszentrum Jülich ; 4', 'publisher': 'Forschungszentrum Jülich', 'address': 'Jülich', 'year': '2007', 'url': 'http://juwel.fz-juelich.de:8080/dspace/bitstream/2128/2893/1/Ball_2007.Wisskom.pdf', 'editor': ['Rafael Ball'], 'editors': [{'first': 'Rafael', 'last': 'Ball'}], 'pages': '300 S.', 'isbn': '3-89336-459-5, 978-3-89336-459-6', 'bibtexKey': 'Ball_2007_Wisskom'}, {'type': 'Publication', 'id': 'https://www.bibsonomy.org/bibtex/229373b9b1243c4dec5e9fa4d7105bc20/wdees', 'tags': ['forschungsdaten', 'proceedings'], 'intraHash': '29373b9b1243c4dec5e9fa4d7105bc20', 'interHash': '5ae37b89357daf1836757213f03ec8e0', 'label': 'Forschungsdaten - Sammeln, sichern, strukturieren; Proceedingsband', 'user': 'wdees', 'description': 'Forschungsdaten - Sammeln, sichern, strukturieren - JuSER', 'date': '2019-08-06 14:45:34', 'changeDate': '2019-08-06 14:45:34', 'count': 1, 'pub-type': 'book', 'series': 'Schriften des Forschungszentrums Jülich Reihe Bibliothek / Library', 'publisher': 'Forschungszentrum Jülich GmbH Zentralbibliothek, Verlag', 'address': 'Jülich', 'year': '2019', 'url': 'http://juser.fz-juelich.de/record/863008', 'editor': ['Bernhard Mittermaier'], 'editors': [{'first': 'Bernhard', 'last': 'Mittermaier'}], 'volume': '23', 'pages': 'iv, 319', 'abstract': 'Die Wissenschaft erlebt durch die Informationstechnologie einen ihrer größten Umbrüche. Doch obwohl Computer und Netzwerke seit Jahrzehnten zum Forschungsalltag gehören, ist der Grad der Digitalisierung in den meisten Fachdisziplinen noch unzureichend. Der überwiegende Teil der Daten ist kaum dokumentiert und wird mit Ad-hoc-Verfahren verarbeitet und analysiert. Gleichzeitig steht die Wissenschaft vor neuen globalen Herausforderungen: Die Reproduzierbarkeitskrise wird durch nicht oder nicht vollständig publizierte Daten verschärft, die Verdopplung von Experimenten verschwendet Ressourcen und gefährdet Versuchstiere, und mit der Datenwissenschaft ist ein neuer Wissenschaftszweig auf dem Vormarsch, dessen Erfolg entscheidend von gutem, globalem Datenmanagement abhängt. Dabei ist die größte Hürde zu besserem Datenmanagement nicht technischer Natur. Es müssen Aufmerksamkeit geschaffen und Berührungsängste abgebaut sowie alte Workflows angepasst und neue Anreize gefunden werden. Primär kommen hierfür Schulungen und Beratungsangebote zum Einsatz. Zudem bieten Datenmanagementpläne einen guten Ansatz, Forschern einen niederschwelligen Zugang zu dem Thema zu öffnen. In der WissKom2019 beschäftigen wir uns mit diesen und anderen Aspekten des noch vergleichsweise jungen Themas Forschungsdatenmanagement, das die meisten Institutionen in den Bibliotheken ansiedeln. Dabei koexistieren unterschiedliche Reifegrade. Wir bilden dies in den Sessions ab, welche von „Strategie“ bis „Lessons learned“ reichen. Die achte Konferenz der Zentralbibliothek will Ansätze aufzeigen, wie Bibliotheken dieses Zukunftsfeld entscheidend mitgestalten können.', 'reportid': 'FZJ-2019-03154', 'isbn': '978-3-95806-405-8', 'cin': 'ZB', 'pid': 'G:(DE-HGF)POF3-899', 'typ': 'PUB:(DE-HGF)3 / PUB:(DE-HGF)26', 'pnm': '899 - ohne Topic (POF3-899)', 'cid': 'I:(DE-Juel1)ZB-20090406', 'bibtexKey': '2019forschungsdaten'}, {'type': 'Publication', 'id': 'https://www.bibsonomy.org/bibtex/2e08a1c00674b99dfd038acd7d858a08a/urhe', 'tags': ['bibliometrics', 'scientometrics'], 'intraHash': 'e08a1c00674b99dfd038acd7d858a08a', 'interHash': 'ca255a86a8d865dbbf94ee49cd58c30e', 'label': 'Qualität und Quantität wissenschaftlicher Veröffentlichungen: Bibliometrische Aspekte der Wissenschaftskommunikation', 'user': 'urhe', 'description': '', 'date': '2015-02-20 13:30:54', 'changeDate': '2015-02-20 13:30:54', 'count': 6, 'pub-type': 'book', 'series': 'Schriften des Forschungszentrums Jülich : Reihe Bibliothek', 'publisher': 'Forschungszentrum Jülich', 'address': 'Jülich', 'year': '2006', 'url': '', 'author': ['Maja Jokic', 'Rafael Ball'], 'authors': [{'first': 'Maja', 'last': 'Jokic'}, {'first': 'Rafael', 'last': 'Ball'}], 'volume': '15', 'isbn': '3-89336-431-5', 'bibtexKey': 'Jokic.2006'}, {'type': 'Publication', 'id': 'https://www.bibsonomy.org/bibtex/29d59b136207d578324fd81a54bda0370/novaesium', 'tags': ['Niedergermanien', 'Ubier', 'Jülich'], 'intraHash': '9d59b136207d578324fd81a54bda0370', 'interHash': '94e556f1537e361b1ca4c6b2b1fbb8ca', 'label': 'Jülich:  Stadt - Territorium - Geschichte:  Festschrift zum 75jährigen Jubiläum des Jülicher Geschichtsvereins 1923 e.V.', 'user': 'novaesium', 'description': '', 'date': '2008-11-26 16:30:25', 'changeDate': '2008-11-26 16:30:30', 'count': 1, 'pub-type': 'book', 'series': 'Jülicher Geschichtsblätter', 'publisher': 'Jülicher Geschichtsverein', 'address': 'Jülich', 'year': '2000', 'url': '\\\\url{http://katalog.ub.uni-heidelberg.de/cgi-bin/titel.cgi?katkey=65295853}', 'editor': ['Guido Büren'], 'editors': [{'first': 'Guido', 'last': 'Büren'}], 'volume': '67/68', 'isbn': '3-933969-10-7', 'bibtexKey': 'Buren.2000'}, {'type': 'Publication', 'id': 'https://www.bibsonomy.org/bibtex/2e08a1c00674b99dfd038acd7d858a08a/bibliometrie', 'tags': ['bibliometrie'], 'intraHash': 'e08a1c00674b99dfd038acd7d858a08a', 'interHash': 'ca255a86a8d865dbbf94ee49cd58c30e', 'label': 'Qualität und Quantität wissenschaftlicher Veröffentlichungen: Bibliometrische Aspekte der Wissenschaftskommunikation', 'user': 'bibliometrie', 'description': '', 'date': '2010-11-24 15:02:02', 'changeDate': '2010-11-24 15:02:02', 'count': 6, 'pub-type': 'book', 'series': 'Schriften des Forschungszentrum Jülich, Reihe Bibliothek / Library', 'publisher': 'Forschungszentrum Jülich', 'address': 'Jülich', 'year': '2006', 'url': 'http://epub.uni-regensburg.de/4914/', 'author': ['Maja Jokic', 'Rafael Ball'], 'authors': [{'first': 'Maja', 'last': 'Jokic'}, {'first': 'Rafael', 'last': 'Ball'}], 'volume': '15', 'abstract': 'Die Bewertung wissenschaftlicher Produktivit?t und Produktion bzw. deren Resonanz\\r\\ngemessen an Zitaten ist ?beraus beliebt. In Zeiten knapper Kassen ist die leistungsorientierte\\r\\nMittelvergabe dringend auf objektive Parameter der Leistung und Leistungsf?higkeit der\\r\\nWissenschaft und der Wissenschaftler angewiesen. Dabei soll die Frage, ob die Qualit?t\\r\\nwissenschaftlicher Arbeit einer letztendlichen quantitativen Begr?ndung zug?nglich ist\\r\\nebenso unkommentiert bleiben, wie die bereits Realit?t gewordene quantitative Beurteilung\\r\\nvon einzelnen Wissenschaftlern, Instituten, Einrichtungen oder L?ndern selbst. Die Tatsache\\r\\nallein, da? die Anwendung bibliometrischer Methoden zur Wissenschaftsevaluation nicht\\r\\nmehr aufzuhalten ist, macht es notwendig, das ?beraus komplexe Thema f?r alle beteiligten\\r\\nGruppen einerseits leicht verst?ndlich und schnell lesbar, andererseits aber auch in der\\r\\ngebotenen Tiefe des komplexen Themas aufzubereiten. Ein kleines B?chlein f?r den\\r\\nschnellen Zugang zur Thematik haben Dirk Tunger und Rafael Ball bereits an anderer Stelle\\r\\nvorgelegt (Rafael Ball, Dirk Tunger: Bibliometrische Analysen - Daten, Fakten und Metho-\\r\\nden : Grundwissen Bibliometrie f?r Wissenschaftler, Wissenschaftsmanager, Forschungsein-\\r\\nrichtungen und Hochschulen. J?lich, 2005).\\r\\nNun folgt hier eine ausf?hrlichere Darlegung der Materie, die es aber noch erlauben soll, auch\\r\\nvom Nicht-Bibliometriker gelesen und verstanden zu werden. Deshalb haben wir auf ein allzu\\r\\ntiefes Eindringen in die mathematisch-statistische Grundlage der Bibliometrie verzichtet und\\r\\ndas Buch so gestaltet, dass es je nach Interessenlage selektiv und kapitelweise gelesen\\r\\nwerden kann. Trotzdem haben wir versucht, zumindest in Grundz?gen die Breite des Themas\\r\\ndarzulegen, auf grundlegende Formeln und Gesetze nicht g?nzlich zu verzichten und vor\\r\\nallem die aktuelle und relevante Literatursicht auszubreiten und zu zitieren.\\r\\nDieses Buch wendet sich deshalb gleicherma?en an den Fachwissenschaftler selbst, ebenso\\r\\nwie an den interessierten Wissenschaftspolitiker und -manager, also an all diejenigen, die\\r\\nquantitative Wissenschaftsbewertung einsetzen, Empfehlungen und Richtlinien f?r\\r\\nPromotionen und Berufungen erlassen oder in solche Verfahren involviert sind. Es eignet sich\\r\\naber auch f?r Studenten der Informations- und Bibliothekswissenschaft und ist f?r den\\r\\ninnovativen Fachreferenten in Bibliotheken unentbehrlich. Das Werk richtet sich deshalb\\r\\nweniger an den spezialisierten Bibliometriker. Es ist entstanden aus dem Wunsch, die\\r\\nInterpretation bibliometrischer Indikatoren durchschaubarer zu machen, ihre Anwendung und\\r\\nInterpretation zu erleichtern und das interessierte Publikum mit den M?glichkeiten\\r\\nbibliometrischer Analysen der wissenschaftlicher Kommunikation fundiert bekanntzumachen.\\r\\nIn der Einf?hrung des Buches wird der Begriff der Bibliometrie erl?utert und eine kurze\\r\\nGeschichte ihrer Entstehung dargelegt. Im zweiten Kapitel werden Autoren als Produzenten\\r\\nwissenschaftlicher Publikationen, die Begriffe der Autorenschaft und der Mehrautorenschaft,\\r\\ndas Thema Frauen in der Wissenschaft und der Einfluss und die Bedeutung internationaler\\r\\nwissenschaftlicher Kooperationen als Paradigma der heutigen Kommunikationsprozesse vor\\r\\ndem Hintergrund bibliometrischer Messungen bearbeitet.', 'bibtexKey': 'epub4914'}, {'type': 'Publication', 'id': 'https://www.bibsonomy.org/bibtex/29e3592cb6e1497d8021e67cdb50d8d8f/acka47', 'tags': ['linkeddata', 'myown', 'phresnel', 'lobid'], 'intraHash': '9e3592cb6e1497d8021e67cdb50d8d8f', 'interHash': 'b8056f67cc86d2234d8d4a2da8fe4044', 'label': 'Zur Entwicklung eines Linked-Open-Data-Dienstes für Bibliotheksdaten', 'user': 'acka47', 'description': '', 'date': '2013-01-07 11:58:11', 'changeDate': '2013-01-07 11:58:11', 'count': 1, 'pub-type': 'inproceedings', 'booktitle': 'Vernetztes Wissen – Daten, Menschen, Systeme. 6. Konferenz der Zentralbibliothek, Forschungszentrum Jülich 5. - 7. November 2012', 'series': 'Reihe Bibliothek / Library', 'publisher': 'Forschungszentrum Jülich GmbH Zentralbibliothek, Verlag', 'year': '2012', 'url': 'http://hdl.handle.net/2128/4699', 'author': ['Felix Ostrowski', 'Adrian Pohl'], 'authors': [{'first': 'Felix', 'last': 'Ostrowski'}, {'first': 'Adrian', 'last': 'Pohl'}], 'editor': ['Bernhard Mittermaier'], 'editors': [{'first': 'Bernhard', 'last': 'Mittermaier'}], 'volume': '21', 'pages': '271-291', 'abstract': '6. Konferenz der Zentralbibliothek Forschungszentrum Jülich. 5. – 7. November 2012 - Proceedingsband', 'bibtexKey': 'ostrowski-pohl_2012'}, {'type': 'Publication', 'id': 'https://www.bibsonomy.org/bibtex/28d8ba6c971543729dbdac4223c2e9689/fbw_hannover', 'tags': ['imported'], 'intraHash': '8d8ba6c971543729dbdac4223c2e9689', 'interHash': '52ba970db263ba645b5f3c057c0d0731', 'label': 'Entlastung der Rohstoff- und Primärenergiebilanz der Bundesrepublik Deutschland durch Recycling von Hausmüll', 'user': 'fbw_hannover', 'description': '', 'date': '2009-08-21 09:46:50', 'changeDate': '2009-08-21 09:46:53', 'count': 2, 'pub-type': 'phdthesis', 'series': 'Berichte der Kernforschungsanlage Jülich', 'publisher': 'Zentralbibliothek d. Kernforschungsanlage Jülich GmbH', 'address': 'Jülich', 'year': '1977', 'url': 'http://gso.gbv.de/DB=2.1/CMD?ACT=SRCHA&SRT=YOP&IKT=1016&TRM=ppn+010967400&sourceid=fbw_bibsonomy', 'author': ['Roland Turowski'], 'authors': [{'first': 'Roland', 'last': 'Turowski'}], 'number': 'Nr. 1453', 'pagetotal': '167', 'ppn_gvk': '010967400', 'bibtexKey': 'GVK010967400'}, {'type': 'Publication', 'id': 'https://www.bibsonomy.org/bibtex/242c29a065ee5d48220fa97bd65b53a4b/voss', 'tags': ['bibliothekswesen', 'openaccess', 'bibliothekswissenschaft'], 'intraHash': '42c29a065ee5d48220fa97bd65b53a4b', 'interHash': '005183a83ccfa7b6b7f7520edb8b763f', 'label': 'Der Schritt zurück als Schritt nach vorn – Macht der Siegeszug des Open Access Bibliotheken arbeitslos?', 'user': 'voss', 'description': 'ISBN 978-3-95806-146-0', 'date': '2016-06-14 13:46:42', 'changeDate': '2016-06-14 13:46:42', 'count': 1, 'pub-type': 'proceedings', 'series': 'Schriften des Forschungszentrums Jülich Reihe Bibliothek / Library', 'year': '2016', 'url': 'http://hdl.handle.net/2128/11435', 'editor': ['Bernd Mittermaier'], 'editors': [{'first': 'Bernd', 'last': 'Mittermaier'}], 'volume': '22', 'abstract': 'Die klassische Aufgabe der Bereitstellung lizenzierter Literatur verliert zumindest im Bereich wissenschaftlicher Zeitschriften umso mehr an Bedeutung, je größer der Anteil der Open Access-Zeitschriften wird. Wenn der von vielen angestrebte Transformationsprozessim wissenschaftlichen Publikationswesen gelingt, dann droht in Bibliotheken ein großes Aufgabengebiet wegzubrechen. Statt dieser am Ende des wissenschaftlichen Publikationsprozesses angesiedelten Aufgaben ergeben sich jedoch möglicherweise neue Betätigungsfelder, die weiter vorn im Publikationsprozessangesiedelt sind: Ist die Begleitung wissenschaftlicher Autoren im Publikationsprozessvon A bis Z eine zeitgerechte Aufgabe für Bibliotheken? Welche technischen und administrativ-strukturellen Voraussetzungen müssen geschaffen werden, um einen Publikationsprozess begleiten zu können und Bibliotheken in die Lage zu versetzen als Dienstleiter gegenüber Lehre, Wissenschaft und Forschung auftreten zu können? Und was gibt es in puncto Forschungsdatenmanagement und Evaluierung zu tun? \\r\\nMit der WissKom2016 greift die Zentralbibliothek des Forschungszentrums Jülich erneut Themen im Spannungsfeld von „Bibliothek – Information – Wissenschaft“ interdisziplinär auf und versucht, neue Handlungsfelder für Bibliotheken aufzuzeigen. \\r\\nDiese siebte Konferenz der Zentralbibliothek thematisiert den sich abzeichnenden Wandel im Publikationswesen primär aus der Sicht der Bibliotheken, die vor ähnlich großen Umbrüchen stehen wie sie seit den 1990er Jahren durch die Digitalisierung der Literatur hervorgerufen wurden.', 'bibtexKey': 'noauthororeditor'}, {'type': 'Publication', 'id': 'https://www.bibsonomy.org/bibtex/2879c972e22403a15e9b77f58b6a2e36f/kaigrass', 'tags': ['imported'], 'intraHash': '879c972e22403a15e9b77f58b6a2e36f', 'interHash': '21ed808570f18573adf2f7466f6e29e2', 'label': 'Anwendung von FFT Ewald Gitter-Methoden in Simulationen von Polyelektrolyten', 'user': 'kaigrass', 'description': '', 'date': '2007-06-15 17:33:15', 'changeDate': '2007-06-15 17:33:19', 'count': 1, 'pub-type': 'inbook', 'booktitle': 'Höchstleistungsrechnen in der Chemie', 'publisher': 'Research Center Jülich', 'address': 'Jülich', 'year': '1998', 'url': '', 'author': ['C. Holm'], 'authors': [{'first': 'C.', 'last': 'Holm'}], 'editor': ['R. Esser', 'J. Grotendorst', 'M. Lewerenz'], 'editors': [{'first': 'R.', 'last': 'Esser'}, {'first': 'J.', 'last': 'Grotendorst'}, {'first': 'M.', 'last': 'Lewerenz'}], 'pages': '67--69', 'bibtexKey': 'holm98a'}, {'type': 'Publication', 'id': 'https://www.bibsonomy.org/bibtex/27f26b46919b08a1bf4409a33f76217a1/niederdorfer', 'tags': ['2007', 'lv_wisskomm', 'Zukunft', 'wisskomm', 'wissenschaftskommunikation', 'theory'], 'intraHash': '7f26b46919b08a1bf4409a33f76217a1', 'interHash': '3a5dae0f8e60eecabaa15db8346e803c', 'label': 'WissKom 2007: Wissenschaftskommunikation der Zukunft: 4. Konferenz der Zentralbibliothek, Forschungszentrum Jülich, 6. - 8. November 2007, Beiträge und Poster', 'user': 'niederdorfer', 'description': 'Amazon.de: WissKom 2007: Wissenschaftskommunikation der Zukunft: 4. Konferenz der Zentralbibliothek, Forschungszentrum Jülich, 6. - 8. November 2007, Beiträge und Poster: Rafael Ball: Bücher', 'date': '2008-03-09 14:14:22', 'changeDate': '2011-11-11 09:07:43', 'count': 3, 'pub-type': 'book', 'publisher': 'Forschungszentrum Jülich', 'year': '2007', 'url': 'http://www.amazon.de/gp/redirect.html%3FASIN=3893364595%26tag=ws%26lcode=xm2%26cID=2025%26ccmID=165953%26location=/o/ASIN/3893364595%253FSubscriptionId=13CT5CVB80YFWJEPWS02', 'author': [' ?'], 'authors': [{'first': '', 'last': '?'}], 'ean': '9783893364596', 'asin': '3893364595', 'isbn': '3893364595', 'bibtexKey': '3893364595'}, {'type': 'Publication', 'id': 'https://www.bibsonomy.org/bibtex/27f26b46919b08a1bf4409a33f76217a1/mm051052', 'tags': ['Datenmanagement', 'pöppel', 'lv_wisskomm', 'practice', 'konferenz', 'eScience', 'theory'], 'intraHash': '7f26b46919b08a1bf4409a33f76217a1', 'interHash': '3a5dae0f8e60eecabaa15db8346e803c', 'label': 'WissKom 2007: Wissenschaftskommunikation der Zukunft: 4. Konferenz der Zentralbibliothek, Forschungszentrum Jülich, 6. - 8. November 2007, Beiträge und Poster', 'user': 'mm051052', 'description': 'Amazon.de: WissKom 2007: Wissenschaftskommunikation der Zukunft: 4. Konferenz der Zentralbibliothek, Forschungszentrum Jülich, 6. - 8. November 2007, Beiträge und Poster: Rafael Ball: Bücher', 'date': '2008-03-06 18:55:46', 'changeDate': '2011-11-11 09:07:43', 'count': 3, 'pub-type': 'book', 'publisher': 'Forschungszentrum Jülich', 'year': '2007', 'url': 'http://www.amazon.de/gp/redirect.html%3FASIN=3893364595%26tag=ws%26lcode=xm2%26cID=2025%26ccmID=165953%26location=/o/ASIN/3893364595%253FSubscriptionId=13CT5CVB80YFWJEPWS02', 'author': [' ?'], 'authors': [{'first': '', 'last': '?'}], 'ean': '9783893364596', 'asin': '3893364595', 'isbn': '3893364595', 'bibtexKey': '3893364595'}, {'type': 'Publication', 'id': 'https://www.bibsonomy.org/bibtex/27f26b46919b08a1bf4409a33f76217a1/sabesa', 'tags': ['lv_wisskomm', 'wissenschaftskommunikation_zukunft', 'wissenschaftskommunikation_forschung', 'theory'], 'intraHash': '7f26b46919b08a1bf4409a33f76217a1', 'interHash': '3a5dae0f8e60eecabaa15db8346e803c', 'label': 'WissKom 2007: Wissenschaftskommunikation der Zukunft: 4. Konferenz der Zentralbibliothek, Forschungszentrum Jülich, 6. - 8. November 2007, Beiträge und Poster', 'user': 'sabesa', 'description': 'Amazon.de: WissKom 2007: Wissenschaftskommunikation der Zukunft: 4. Konferenz der Zentralbibliothek, Forschungszentrum Jülich, 6. - 8. November 2007, Beiträge und Poster: Rafael Ball: Bücher', 'date': '2008-03-13 11:16:40', 'changeDate': '2011-11-11 09:07:43', 'count': 3, 'pub-type': 'book', 'publisher': 'Forschungszentrum Jülich', 'year': '2007', 'url': 'http://www.amazon.de/gp/redirect.html%3FASIN=3893364595%26tag=ws%26lcode=xm2%26cID=2025%26ccmID=165953%26location=/o/ASIN/3893364595%253FSubscriptionId=13CT5CVB80YFWJEPWS02', 'author': [' ?'], 'authors': [{'first': '', 'last': '?'}], 'ean': '9783893364596', 'asin': '3893364595', 'isbn': '3893364595', 'bibtexKey': '3893364595'}, {'type': 'Publication', 'id': 'https://www.bibsonomy.org/bibtex/207952da2dea898ed34e25c5008eeb3c1/itv', 'tags': ['nrev'], 'intraHash': '07952da2dea898ed34e25c5008eeb3c1', 'interHash': 'ca1ae1b962768d863466b15f5c99ebd4', 'label': 'Geometrical Dissipation element analysis if inhomogenous turbulence', 'user': 'itv', 'description': '', 'date': '2013-03-21 15:13:41', 'changeDate': '2014-07-31 07:46:30', 'count': 1, 'pub-type': 'inproceedings', 'booktitle': 'NIC Symposium 2010', 'series': 'Schriften des Forschungszentrums Jülich: IAS Series Vol. 3', 'address': 'Jülich', 'year': '2010', 'url': '', 'author': ['Philipp Schäfer', 'Markus Gampert', 'Jens-Henrik Göbbert', 'David Gottschalk', 'Norbert Peters'], 'authors': [{'first': 'Philipp', 'last': 'Schäfer'}, {'first': 'Markus', 'last': 'Gampert'}, {'first': 'Jens-Henrik', 'last': 'Göbbert'}, {'first': 'David', 'last': 'Gottschalk'}, {'first': 'Norbert', 'last': 'Peters'}], 'bibtexKey': 'schafer2010geometrical'}, {'type': 'Publication', 'id': 'https://www.bibsonomy.org/bibtex/2451e158ada54d9fdfc71e491622a9ea1/kaue', 'tags': ['deutschland', 'germany', 'fließgewässer', 'river', 'retention'], 'intraHash': '451e158ada54d9fdfc71e491622a9ea1', 'interHash': 'f302536090659f2bb606d2719d8ecc34', 'label': 'Retentionsfähigkeit von Gewässernetzen (Handbuch)', 'user': 'kaue', 'description': '', 'date': '2016-03-18 11:10:04', 'changeDate': '2016-03-18 11:10:04', 'count': 1, 'pub-type': 'techreport', 'address': 'Jülich', 'year': '2007', 'url': '', 'author': ['Klaus Röttcher', 'Christoph Linnenweber', 'Stephan Theobald', 'Ernst-Wolfgang Löffler', 'Günter Meon', 'Gero Koehler'], 'authors': [{'first': 'Klaus', 'last': 'Röttcher'}, {'first': 'Christoph', 'last': 'Linnenweber'}, {'first': 'Stephan', 'last': 'Theobald'}, {'first': 'Ernst-Wolfgang', 'last': 'Löffler'}, {'first': 'Günter', 'last': 'Meon'}, {'first': 'Gero', 'last': 'Koehler'}], 'bibtexKey': 'rottcher2007retentionsfhigkeit'}, {'type': 'Publication', 'id': 'https://www.bibsonomy.org/bibtex/2beed9185eea681fa4e008a4ef0e89b1f/kaue', 'tags': ['deutschland', 'germany', 'fließgewässer', 'river', 'retention'], 'intraHash': 'beed9185eea681fa4e008a4ef0e89b1f', 'interHash': '19c3ab959e8c3f9803dd39b9d2de7974', 'label': 'Retentionsfähigkeit von Gewässernetzen', 'user': 'kaue', 'description': '', 'date': '2016-03-18 11:08:22', 'changeDate': '2016-03-18 11:08:22', 'count': 1, 'pub-type': 'techreport', 'address': 'Jülich', 'year': '2007', 'url': '', 'author': ['Klaus Röttcher', 'Christoph Linnenweber', 'Stephan Theobald', 'Ernst-Wolfgang Löffler', 'Günter Meon', 'Gero Koehler'], 'authors': [{'first': 'Klaus', 'last': 'Röttcher'}, {'first': 'Christoph', 'last': 'Linnenweber'}, {'first': 'Stephan', 'last': 'Theobald'}, {'first': 'Ernst-Wolfgang', 'last': 'Löffler'}, {'first': 'Günter', 'last': 'Meon'}, {'first': 'Gero', 'last': 'Koehler'}], 'note': 'pp. 1-188', 'bibtexKey': 'rottcher2007retentionsfhigkeit'}, {'type': 'Publication', 'id': 'https://www.bibsonomy.org/bibtex/2cfbe9da2232fbad9225460bb39f6a025/elearn_fb7_rwth', 'tags': ['eBooks', 'E-Books'], 'intraHash': 'cfbe9da2232fbad9225460bb39f6a025', 'interHash': '7c2b0df5cfd383001fe9004d066e6628', 'label': 'Akzeptanz und Nutzungsperspektiven von E-Books in Lehre und Forschung: Eine Repräsentativstudie', 'user': 'elearn_fb7_rwth', 'description': '', 'date': '2017-04-18 10:50:18', 'changeDate': '2017-04-18 10:50:18', 'count': 1, 'pub-type': 'conference', 'booktitle': 'eLibrary – den Wandel gestalten, 5. Konferenz der Zentralbibliothek, Proceedings of the WissKom 2010: 5. Konferenz der Zentralbibliothek, 08.-11. November 2010, Jülich', 'series': 'Schriften des Forschungszentrums Jülich / Reihe Bibliothek/Library', 'publisher': 'Forschungszentrum Jülich GmbH, Zentralbibliothek, Verlag', 'year': '2010', 'url': 'http://juser.fz-juelich.de/record/135755/files/Mundt_Bib_20.pdf', 'author': ['Sebastian Mundt'], 'authors': [{'first': 'Sebastian', 'last': 'Mundt'}], 'editor': ['Bernhard Mittermaier'], 'editors': [{'first': 'Bernhard', 'last': 'Mittermaier'}], 'volume': '20', 'pages': '49-55', 'bibtexKey': 'mundt2010akzeptanz'}, {'type': 'Publication', 'id': 'https://www.bibsonomy.org/bibtex/2e17999f0609322f34d35df347b56f23e/authorfunction', 'tags': [], 'intraHash': 'e17999f0609322f34d35df347b56f23e', 'interHash': '03626f6342c9165c50a4cd1ffc6bdf5f', 'label': 'I mediearkivet', 'user': 'authorfunction', 'description': '', 'date': '2008-03-06 22:33:14', 'changeDate': '2008-03-06 22:33:14', 'count': 1, 'pub-type': 'incollection', 'booktitle': '1897 : mediehistorier kring Stockholmsutställningen', 'publisher': 'Statens ljud- och bildarkiv', 'address': 'Stockholm', 'year': '2006', 'url': '', 'author': ['Anders Ekström', 'Solveig Jülich', 'Pelle Snickars'], 'authors': [{'first': 'Anders', 'last': 'Ekström'}, {'first': 'Solveig', 'last': 'Jülich'}, {'first': 'Pelle', 'last': 'Snickars'}], 'editor': ['Anders Ekström', 'Solveig Jülich', 'Pelle Snickars'], 'editors': [{'first': 'Anders', 'last': 'Ekström'}, {'first': 'Solveig', 'last': 'Jülich'}, {'first': 'Pelle', 'last': 'Snickars'}], 'volume': '1', 'bibtexKey': 'Ekstrom2006'}, {'type': 'Publication', 'id': 'https://www.bibsonomy.org/bibtex/24ea2a4df1f712f27cac5137fcf5d1083/novaesium', 'tags': ['Niedergermanien'], 'intraHash': '4ea2a4df1f712f27cac5137fcf5d1083', 'interHash': '145d0fa02b792c3f010a87f34f68d4ba', 'label': 'Siedlungsstrukturen in Niedergermanien', 'user': 'novaesium', 'description': '', 'date': '2009-01-07 22:05:18', 'changeDate': '2009-01-07 22:05:18', 'count': 1, 'pub-type': 'incollection', 'booktitle': 'Jülich: Stadt - Territorium - Geschichte: Festschrift zum 75jährigen Jubiläum des Jülicher Geschichtsvereins 1923 e.V.', 'series': 'Jülicher Geschichtsblätter', 'publisher': 'Jülicher Geschichtsverein', 'address': 'Jülich', 'year': '2000', 'url': '', 'author': ['Ursula Heimberg'], 'authors': [{'first': 'Ursula', 'last': 'Heimberg'}], 'editor': ['Guido Büren'], 'editors': [{'first': 'Guido', 'last': 'Büren'}], 'volume': '67/68', 'pages': '189-240', 'isbn': '3-933969-10-7', 'bibtexKey': 'Heimberg.2000'}, {'type': 'Publication', 'id': 'https://www.bibsonomy.org/bibtex/268b637817832149dc60442c2cb45a598/hilf', 'tags': ['imported'], 'intraHash': '68b637817832149dc60442c2cb45a598', 'interHash': 'a3fc1dbc24aa6f671d7ffcd489096223', 'label': 'Kernspaltung nach dem Tröpfchenmodell', 'user': 'hilf', 'description': 'pub-list-hilf', 'date': '2008-10-20 10:51:18', 'changeDate': '2008-10-20 10:51:18', 'count': 1, 'pub-type': 'inproceedings', 'booktitle': 'Diskussionstagung über Neuronenphysik an Forschungsreaktoren', 'publisher': 'Kernforschungsanlage Jülich KFA', 'year': '1967', 'url': 'http://www.physik.uni-oldenburg.de/Docs/THEO3/publications/ebs.kernspaltung.pdf', 'author': ['E. R. Hilf', 'R. Hasse', ' S.Knaak', 'R. Schade'], 'authors': [{'first': 'E. R.', 'last': 'Hilf'}, {'first': 'R.', 'last': 'Hasse'}, {'first': '', 'last': 'S.Knaak'}, {'first': 'R.', 'last': 'Schade'}], 'pages': '1', 'bibtexKey': '1967-3'}, {'type': 'Publication', 'id': 'https://www.bibsonomy.org/bibtex/2e684503243cf5149a79a6da0fe3a9e20/kw', 'tags': ['idp', 'bibliometrie', 'tum'], 'intraHash': 'e684503243cf5149a79a6da0fe3a9e20', 'interHash': '0a64398fae447f48f89472a75a907007', 'label': 'Bibliometrische Analysen - Daten, Fakten und Methoden - Grundwissen Bibliometrie für Wissenschaftler, Wissenschaftsmanager, Forschungseinrichtungen und Hochschulen', 'user': 'kw', 'description': '', 'date': '2011-05-25 19:43:57', 'changeDate': '2011-05-25 19:43:57', 'count': 1, 'pub-type': 'book', 'publisher': 'Forschungszentrum Jülich', 'year': '2005', 'url': '', 'author': ['Rafael Ball', 'Dirk Tunger'], 'authors': [{'first': 'Rafael', 'last': 'Ball'}, {'first': 'Dirk', 'last': 'Tunger'}], 'volume': 'Schriften des Forschungszentrum Jülich, Reihe Bibliothek / Library, 12', 'note': 'ISBN 3-89336-383-1', 'bibtexKey': 'bibliogrundw2005'}]}\n"
     ]
    }
   ],
   "source": [
    "print(daten)"
   ]
  },
  {
   "cell_type": "code",
   "execution_count": 65,
   "id": "7e838ba2-b750-4da7-b5ce-81ded18938be",
   "metadata": {},
   "outputs": [],
   "source": [
    "df = pd.DataFrame(daten[\"items\"])"
   ]
  },
  {
   "cell_type": "code",
   "execution_count": 66,
   "id": "c0ad6613-1c8b-48df-ada0-b80151fbecb7",
   "metadata": {},
   "outputs": [
    {
     "data": {
      "text/plain": [
       "Index(['type', 'id', 'tags', 'intraHash', 'label', 'user', 'description',\n",
       "       'date', 'changeDate', 'count', 'url', 'interHash', 'pub-type', 'series',\n",
       "       'publisher', 'address', 'year', 'editor', 'editors', 'pages', 'isbn',\n",
       "       'bibtexKey', 'volume', 'abstract', 'reportid', 'cin', 'pid', 'typ',\n",
       "       'pnm', 'cid', 'author', 'authors', 'booktitle', 'number', 'pagetotal',\n",
       "       'ppn_gvk', 'ean', 'asin', 'note'],\n",
       "      dtype='object')"
      ]
     },
     "execution_count": 66,
     "metadata": {},
     "output_type": "execute_result"
    }
   ],
   "source": [
    "df.keys()"
   ]
  },
  {
   "cell_type": "code",
   "execution_count": 67,
   "id": "37ae5f74-ae2c-4477-934d-43d86ebcfabd",
   "metadata": {
    "scrolled": true
   },
   "outputs": [
    {
     "name": "stdout",
     "output_type": "stream",
     "text": [
      "0                        Forschungszentrum Jülich - INM\n",
      "1     heise online - RWTH Aachen und Forschungszentr...\n",
      "2     Forschungszentrum Jülich - Forschung - Phänoty...\n",
      "3     JPPC: the Jülich Plant Phenotyping Centre at t...\n",
      "4     Forschungszentrum Jülich - White Paper Phenoty...\n",
      "5     Young Investigators Group Leader - Forschungsz...\n",
      "6     AZ-Web.de - Schüler finden in Stadtbücherei Jü...\n",
      "7                               Brückenkopf-Park Jülich\n",
      "8                                Delicious am FZ Jülich\n",
      "9            Projektträger Jülich Werkstofftechnologien\n",
      "10                    GoInfo: Online-Tutorial FZ Jülich\n",
      "11    Projektträger Jülich: Systemmedizin der Leber ...\n",
      "12    Das JüLichT - Stadtteile: Stadtbücherei Jülich...\n",
      "13    heise online - RWTH Aachen und Forschungszentr...\n",
      "14    ICG-3 JPPC-Jülich Plant Phenotyping Centre: te...\n",
      "15    Jülich Plant Phenotyping Centre - JPPC - EPSO ...\n",
      "16    JUWEL - Volltextserver des Forschungszentrums ...\n",
      "17                Home Page of Bin A. Wang and Bin Wang\n",
      "18                                 Home Page of Tao Liu\n",
      "19                       Home Page of Stefanie Haustein\n",
      "20               Wissenschaftskommunikation der Zukunft\n",
      "21    Forschungsdaten - Sammeln, sichern, strukturie...\n",
      "22    Qualität und Quantität wissenschaftlicher Verö...\n",
      "23    Jülich:  Stadt - Territorium - Geschichte:  Fe...\n",
      "24    Qualität und Quantität wissenschaftlicher Verö...\n",
      "25    Zur Entwicklung eines Linked-Open-Data-Dienste...\n",
      "26    Entlastung der Rohstoff- und Primärenergiebila...\n",
      "27    Der Schritt zurück als Schritt nach vorn – Mac...\n",
      "28    Anwendung von FFT Ewald Gitter-Methoden in Sim...\n",
      "29    WissKom 2007: Wissenschaftskommunikation der Z...\n",
      "30    WissKom 2007: Wissenschaftskommunikation der Z...\n",
      "31    WissKom 2007: Wissenschaftskommunikation der Z...\n",
      "32    Geometrical Dissipation element analysis if in...\n",
      "33    Retentionsfähigkeit von Gewässernetzen (Handbuch)\n",
      "34               Retentionsfähigkeit von Gewässernetzen\n",
      "35    Akzeptanz und Nutzungsperspektiven von E-Books...\n",
      "36                                       I mediearkivet\n",
      "37               Siedlungsstrukturen in Niedergermanien\n",
      "38                Kernspaltung nach dem Tröpfchenmodell\n",
      "39    Bibliometrische Analysen - Daten, Fakten und M...\n",
      "Name: label, dtype: object\n"
     ]
    }
   ],
   "source": [
    "print(df[\"label\"])"
   ]
  },
  {
   "cell_type": "code",
   "execution_count": 68,
   "id": "abf53907-d30b-4261-be09-6ccb3fc8a82a",
   "metadata": {},
   "outputs": [],
   "source": [
    "dataset = df[\"label\"]"
   ]
  },
  {
   "cell_type": "code",
   "execution_count": 74,
   "id": "9d17111e-d8ed-4944-b3c9-22e8c93d09d9",
   "metadata": {},
   "outputs": [
    {
     "name": "stderr",
     "output_type": "stream",
     "text": [
      "PyTerrier 0.10.0 has loaded Terrier 5.8 (built by craigm on 2023-11-01 18:05) and terrier-helper 0.0.8\n",
      "\n",
      "No etc/terrier.properties, using terrier.default.properties for bootstrap configuration.\n"
     ]
    }
   ],
   "source": [
    "if not pt.started():\n",
    "    pt.init()"
   ]
  },
  {
   "cell_type": "code",
   "execution_count": 83,
   "id": "0394b4f7-35d2-4c39-93e3-2bc0676d06c6",
   "metadata": {},
   "outputs": [],
   "source": [
    "df['docno'] = df['id']"
   ]
  },
  {
   "cell_type": "code",
   "execution_count": 84,
   "id": "0d756bcc-6b72-4648-9b51-de92f9167e2a",
   "metadata": {},
   "outputs": [
    {
     "name": "stdout",
     "output_type": "stream",
     "text": [
      "path to our index: ./retrievel_test_index/data.properties\n"
     ]
    }
   ],
   "source": [
    "index_folder =\"./retrievel_test_index\"\n",
    "\n",
    "indexer = pt.DFIndexer(index_folder, overwrite=True)\n",
    "index_ref =   indexer.index(df['label'], df['docno'])\n",
    "print(f\"path to our index: {index_ref.toString()}\")\n",
    "\n"
   ]
  },
  {
   "cell_type": "code",
   "execution_count": 85,
   "id": "9d06f096-58b1-4fd3-9167-92db78c67d4b",
   "metadata": {},
   "outputs": [],
   "source": [
    "index = pt.IndexFactory.of(index_ref)"
   ]
  },
  {
   "cell_type": "code",
   "execution_count": 86,
   "id": "30076361-d078-432e-b8a0-fa49cc896179",
   "metadata": {
    "scrolled": true
   },
   "outputs": [
    {
     "name": "stdout",
     "output_type": "stream",
     "text": [
      "1923 -> term95 Nt=1 TF=1 maxTF=1 @{0 0 0}\n",
      "2007 -> term139 Nt=3 TF=6 maxTF=2 @{0 1 2}\n",
      "2009 -> term21 Nt=2 TF=2 maxTF=1 @{0 3 3}\n",
      "2128 -> term67 Nt=1 TF=1 maxTF=1 @{0 5 1}\n",
      "2893 -> term66 Nt=1 TF=1 maxTF=1 @{0 6 3}\n",
      "3 -> term18 Nt=2 TF=2 maxTF=1 @{0 7 5}\n",
      "4 -> term145 Nt=3 TF=3 maxTF=1 @{0 9 3}\n",
      "6 -> term144 Nt=3 TF=3 maxTF=1 @{0 11 1}\n",
      "75j -> term99 Nt=1 TF=1 maxTF=1 @{0 12 7}\n",
      "8 -> term143 Nt=3 TF=3 maxTF=1 @{0 14 1}\n",
      "aachen -> term3 Nt=2 TF=2 maxTF=1 @{0 15 7}\n",
      "academ -> term22 Nt=1 TF=1 maxTF=1 @{0 17 3}\n",
      "access -> term128 Nt=1 TF=1 maxTF=1 @{0 18 1}\n",
      "akzeptanz -> term160 Nt=1 TF=1 maxTF=1 @{0 19 3}\n",
      "al -> term124 Nt=1 TF=1 maxTF=1 @{0 20 7}\n",
      "am -> term43 Nt=1 TF=1 maxTF=1 @{0 22 1}\n",
      "analysen -> term179 Nt=1 TF=1 maxTF=1 @{0 23 1}\n",
      "analysi -> term152 Nt=1 TF=1 maxTF=1 @{0 24 5}\n",
      "anwendung -> term132 Nt=1 TF=1 maxTF=1 @{0 26 1}\n",
      "arbeitslo -> term125 Nt=1 TF=1 maxTF=1 @{0 27 3}\n",
      "aspekt -> term85 Nt=2 TF=2 maxTF=1 @{0 28 5}\n",
      "az -> term37 Nt=1 TF=1 maxTF=1 @{0 30 3}\n",
      "beitr -> term146 Nt=3 TF=3 maxTF=1 @{0 31 1}\n",
      "bibliometri -> term177 Nt=1 TF=1 maxTF=1 @{0 32 7}\n",
      "bibliometrisch -> term83 Nt=3 TF=3 maxTF=1 @{0 34 3}\n",
      "bibliotheken -> term121 Nt=1 TF=1 maxTF=1 @{0 37 1}\n",
      "bibliotheksdaten -> term107 Nt=1 TF=1 maxTF=1 @{0 38 3}\n",
      "bin -> term71 Nt=1 TF=2 maxTF=2 @{0 39 5}\n",
      "book -> term163 Nt=1 TF=1 maxTF=1 @{0 41 0}\n",
      "br -> term40 Nt=1 TF=1 maxTF=1 @{0 42 4}\n",
      "bundesrepublik -> term119 Nt=1 TF=1 maxTF=1 @{0 43 4}\n",
      "centr -> term15 Nt=3 TF=3 maxTF=1 @{0 44 6}\n",
      "cherei -> term34 Nt=2 TF=2 maxTF=1 @{0 46 6}\n",
      "ck -> term122 Nt=1 TF=1 maxTF=1 @{0 48 2}\n",
      "ckenkopf -> term39 Nt=1 TF=1 maxTF=1 @{0 49 4}\n",
      "corner -> term54 Nt=1 TF=1 maxTF=1 @{0 50 4}\n",
      "da -> term56 Nt=1 TF=1 maxTF=1 @{0 51 4}\n",
      "data -> term103 Nt=1 TF=1 maxTF=1 @{0 52 4}\n",
      "daten -> term176 Nt=1 TF=1 maxTF=1 @{0 53 6}\n",
      "de -> term31 Nt=4 TF=4 maxTF=1 @{0 55 2}\n",
      "delici -> term44 Nt=1 TF=1 maxTF=1 @{0 58 4}\n",
      "dem -> term168 Nt=1 TF=1 maxTF=1 @{0 59 4}\n",
      "der -> term50 Nt=9 TF=14 maxTF=2 @{0 61 0}\n",
      "deutschland -> term115 Nt=1 TF=1 maxTF=1 @{0 66 3}\n",
      "dienst -> term105 Nt=1 TF=1 maxTF=1 @{0 67 5}\n",
      "dissip -> term151 Nt=1 TF=1 maxTF=1 @{0 68 7}\n",
      "durch -> term116 Nt=1 TF=1 maxTF=1 @{0 70 3}\n",
      "ein -> term104 Nt=2 TF=2 maxTF=1 @{0 71 5}\n",
      "element -> term148 Nt=1 TF=1 maxTF=1 @{0 73 7}\n",
      "entlastung -> term111 Nt=1 TF=1 maxTF=1 @{0 75 3}\n",
      "entwicklung -> term101 Nt=1 TF=1 maxTF=1 @{0 76 5}\n",
      "epso -> term62 Nt=1 TF=1 maxTF=1 @{0 77 7}\n",
      "europ -> term25 Nt=1 TF=1 maxTF=1 @{0 79 1}\n",
      "ewald -> term134 Nt=1 TF=1 maxTF=1 @{0 79 7}\n",
      "fakten -> term174 Nt=1 TF=1 maxTF=1 @{0 81 1}\n",
      "festschrift -> term98 Nt=1 TF=1 maxTF=1 @{0 82 5}\n",
      "ffentlichungen -> term86 Nt=2 TF=2 maxTF=1 @{0 83 7}\n",
      "fft -> term131 Nt=1 TF=1 maxTF=1 @{0 85 5}\n",
      "finden -> term29 Nt=1 TF=1 maxTF=1 @{0 86 7}\n",
      "forschung -> term9 Nt=2 TF=2 maxTF=1 @{0 87 5}\n",
      "forschungsdaten -> term77 Nt=1 TF=1 maxTF=1 @{0 89 5}\n",
      "forschungszentrum -> term2 Nt=11 TF=11 maxTF=1 @{0 90 7}\n",
      "fz -> term42 Nt=2 TF=2 maxTF=1 @{0 95 3}\n",
      "ge -> term137 Nt=3 TF=3 maxTF=1 @{0 96 7}\n",
      "geometr -> term153 Nt=1 TF=1 maxTF=1 @{0 98 5}\n",
      "ger -> term46 Nt=2 TF=2 maxTF=1 @{0 100 1}\n",
      "geschicht -> term89 Nt=1 TF=1 maxTF=1 @{0 101 5}\n",
      "geschichtsverein -> term92 Nt=1 TF=1 maxTF=1 @{0 102 7}\n",
      "gew -> term158 Nt=2 TF=2 maxTF=1 @{0 104 1}\n",
      "gitter -> term130 Nt=1 TF=1 maxTF=1 @{0 105 7}\n",
      "goinfo -> term48 Nt=1 TF=1 maxTF=1 @{0 107 1}\n",
      "group -> term27 Nt=1 TF=1 maxTF=1 @{0 108 1}\n",
      "grundwissen -> term172 Nt=1 TF=1 maxTF=1 @{0 108 7}\n",
      "handbuch -> term154 Nt=1 TF=1 maxTF=1 @{0 110 3}\n",
      "hausm -> term112 Nt=1 TF=1 maxTF=1 @{0 111 7}\n",
      "haustein -> term74 Nt=1 TF=1 maxTF=1 @{0 113 1}\n",
      "heis -> term6 Nt=2 TF=2 maxTF=1 @{0 114 3}\n",
      "higkeit -> term155 Nt=2 TF=2 maxTF=1 @{0 115 7}\n",
      "hochschulen -> term178 Nt=1 TF=1 maxTF=1 @{0 117 5}\n",
      "home -> term69 Nt=3 TF=3 maxTF=1 @{0 119 1}\n",
      "hrigen -> term96 Nt=1 TF=1 maxTF=1 @{0 120 7}\n",
      "icg -> term17 Nt=2 TF=2 maxTF=1 @{0 122 1}\n",
      "ihren -> term35 Nt=1 TF=1 maxTF=1 @{0 123 7}\n",
      "inhomogen -> term150 Nt=1 TF=1 maxTF=1 @{0 124 5}\n",
      "inm -> term1 Nt=1 TF=1 maxTF=1 @{0 126 1}\n",
      "investig -> term28 Nt=1 TF=1 maxTF=1 @{0 126 3}\n",
      "item -> term64 Nt=1 TF=1 maxTF=1 @{0 127 1}\n",
      "jppc -> term13 Nt=3 TF=3 maxTF=1 @{0 128 3}\n",
      "jubil -> term94 Nt=1 TF=1 maxTF=1 @{0 130 3}\n",
      "juwel -> term63 Nt=1 TF=1 maxTF=1 @{0 131 5}\n",
      "kernspaltung -> term169 Nt=1 TF=1 maxTF=1 @{0 132 7}\n",
      "konferenz -> term141 Nt=3 TF=3 maxTF=1 @{0 134 3}\n",
      "kooperieren -> term5 Nt=2 TF=2 maxTF=1 @{0 136 1}\n",
      "leader -> term24 Nt=1 TF=1 maxTF=1 @{0 137 5}\n",
      "leber -> term52 Nt=1 TF=1 maxTF=1 @{0 138 3}\n",
      "lehr -> term161 Nt=1 TF=1 maxTF=1 @{0 139 3}\n",
      "ler -> term36 Nt=1 TF=1 maxTF=1 @{0 140 7}\n",
      "lesecaf -> term59 Nt=1 TF=1 maxTF=1 @{0 141 5}\n",
      "lich -> term0 Nt=21 TF=22 maxTF=2 @{0 142 5}\n",
      "licher -> term91 Nt=1 TF=1 maxTF=1 @{0 149 0}\n",
      "licht -> term57 Nt=1 TF=1 maxTF=1 @{0 150 2}\n",
      "link -> term106 Nt=1 TF=1 maxTF=1 @{0 151 2}\n",
      "lisym -> term49 Nt=1 TF=1 maxTF=1 @{0 152 4}\n",
      "liu -> term72 Nt=1 TF=1 maxTF=1 @{0 153 4}\n",
      "ll -> term113 Nt=1 TF=1 maxTF=1 @{0 154 6}\n",
      "macht -> term120 Nt=1 TF=1 maxTF=1 @{0 156 0}\n",
      "mediearkivet -> term165 Nt=1 TF=1 maxTF=1 @{0 157 2}\n",
      "methoden -> term133 Nt=2 TF=2 maxTF=1 @{0 158 6}\n",
      "nach -> term123 Nt=2 TF=2 maxTF=1 @{0 161 0}\n",
      "niedergermanien -> term166 Nt=1 TF=1 maxTF=1 @{0 163 2}\n",
      "notypisierung -> term11 Nt=1 TF=1 maxTF=1 @{0 164 6}\n",
      "novemb -> term142 Nt=3 TF=3 maxTF=1 @{0 165 2}\n",
      "nutzungsperspektiven -> term164 Nt=1 TF=1 maxTF=1 @{0 167 0}\n",
      "onlin -> term8 Nt=3 TF=3 maxTF=1 @{0 168 4}\n",
      "open -> term108 Nt=2 TF=2 maxTF=1 @{0 170 4}\n",
      "page -> term68 Nt=3 TF=3 maxTF=1 @{0 172 2}\n",
      "paper -> term20 Nt=1 TF=1 maxTF=1 @{0 174 0}\n",
      "park -> term41 Nt=1 TF=1 maxTF=1 @{0 174 6}\n",
      "pfchenmodel -> term170 Nt=1 TF=1 maxTF=1 @{0 175 6}\n",
      "ph -> term10 Nt=1 TF=1 maxTF=1 @{0 177 2}\n",
      "phenotyp -> term14 Nt=4 TF=6 maxTF=2 @{0 177 6}\n",
      "phytospher -> term16 Nt=1 TF=1 maxTF=1 @{0 180 2}\n",
      "plant -> term12 Nt=4 TF=6 maxTF=2 @{0 181 0}\n",
      "platz -> term38 Nt=1 TF=1 maxTF=1 @{0 183 6}\n",
      "polyelektrolyten -> term135 Nt=1 TF=1 maxTF=1 @{0 184 4}\n",
      "posit -> term26 Nt=1 TF=1 maxTF=1 @{0 185 6}\n",
      "poster -> term140 Nt=3 TF=3 maxTF=1 @{0 186 4}\n",
      "prim -> term118 Nt=1 TF=1 maxTF=1 @{0 188 2}\n",
      "proceedingsband -> term79 Nt=1 TF=1 maxTF=1 @{0 189 4}\n",
      "projekttr -> term45 Nt=2 TF=2 maxTF=1 @{0 190 6}\n",
      "qualit -> term84 Nt=2 TF=2 maxTF=1 @{0 192 2}\n",
      "quantit -> term88 Nt=2 TF=2 maxTF=1 @{0 194 0}\n",
      "recycl -> term114 Nt=1 TF=1 maxTF=1 @{0 195 6}\n",
      "renergiebilanz -> term109 Nt=1 TF=1 maxTF=1 @{0 197 0}\n",
      "repr -> term159 Nt=1 TF=1 maxTF=1 @{0 198 2}\n",
      "retentionsf -> term157 Nt=2 TF=2 maxTF=1 @{0 199 6}\n",
      "rohstoff -> term110 Nt=1 TF=1 maxTF=1 @{0 201 4}\n",
      "rwth -> term4 Nt=2 TF=2 maxTF=1 @{0 202 6}\n",
      "sammeln -> term81 Nt=1 TF=1 maxTF=1 @{0 204 2}\n",
      "sch -> term33 Nt=1 TF=1 maxTF=1 @{0 205 4}\n",
      "school -> term58 Nt=1 TF=1 maxTF=1 @{0 206 2}\n",
      "schritt -> term127 Nt=1 TF=2 maxTF=2 @{0 207 2}\n",
      "sentativstudi -> term162 Nt=1 TF=1 maxTF=1 @{0 208 5}\n",
      "sichern -> term78 Nt=1 TF=1 maxTF=1 @{0 210 1}\n",
      "siedlungsstrukturen -> term167 Nt=1 TF=1 maxTF=1 @{0 211 3}\n",
      "siegeszug -> term126 Nt=1 TF=1 maxTF=1 @{0 212 7}\n",
      "simulationen -> term136 Nt=1 TF=1 maxTF=1 @{0 214 1}\n",
      "ssernetzen -> term156 Nt=2 TF=2 maxTF=1 @{0 215 3}\n",
      "stadt -> term100 Nt=1 TF=1 maxTF=1 @{0 217 1}\n",
      "stadtb -> term30 Nt=2 TF=2 maxTF=1 @{0 218 3}\n",
      "stadtteil -> term53 Nt=1 TF=1 maxTF=1 @{0 219 7}\n",
      "stefani -> term75 Nt=1 TF=1 maxTF=1 @{0 220 7}\n",
      "strukturieren -> term80 Nt=1 TF=1 maxTF=1 @{0 222 1}\n",
      "systemmedizin -> term51 Nt=1 TF=1 maxTF=1 @{0 223 3}\n",
      "tao -> term73 Nt=1 TF=1 maxTF=1 @{0 224 3}\n",
      "technolog -> term60 Nt=1 TF=1 maxTF=1 @{0 225 5}\n",
      "territorium -> term97 Nt=1 TF=1 maxTF=1 @{0 226 5}\n",
      "theatergrupp -> term55 Nt=1 TF=1 maxTF=1 @{0 227 7}\n",
      "tr -> term171 Nt=1 TF=1 maxTF=1 @{0 228 7}\n",
      "turbul -> term149 Nt=1 TF=1 maxTF=1 @{0 230 3}\n",
      "tutori -> term47 Nt=1 TF=1 maxTF=1 @{0 231 7}\n",
      "um -> term93 Nt=1 TF=1 maxTF=1 @{0 232 7}\n",
      "und -> term7 Nt=11 TF=13 maxTF=2 @{0 234 1}\n",
      "ver -> term87 Nt=2 TF=2 maxTF=1 @{0 240 5}\n",
      "volltextserv -> term65 Nt=1 TF=1 maxTF=1 @{0 242 3}\n",
      "von -> term117 Nt=5 TF=6 maxTF=2 @{0 243 5}\n",
      "vorn -> term129 Nt=1 TF=1 maxTF=1 @{0 246 6}\n",
      "wang -> term70 Nt=1 TF=2 maxTF=2 @{0 248 0}\n",
      "web -> term32 Nt=1 TF=1 maxTF=1 @{0 249 3}\n",
      "white -> term19 Nt=1 TF=1 maxTF=1 @{0 250 1}\n",
      "wissenschaftl -> term175 Nt=1 TF=1 maxTF=1 @{0 250 7}\n",
      "wissenschaftlich -> term82 Nt=2 TF=2 maxTF=1 @{0 252 3}\n",
      "wissenschaftsmanag -> term173 Nt=1 TF=1 maxTF=1 @{0 254 1}\n",
      "wisskom -> term138 Nt=3 TF=3 maxTF=1 @{0 255 5}\n",
      "workshop -> term61 Nt=1 TF=1 maxTF=1 @{0 257 3}\n",
      "young -> term23 Nt=1 TF=1 maxTF=1 @{0 258 5}\n",
      "zentralbibliothek -> term147 Nt=3 TF=3 maxTF=1 @{0 259 3}\n",
      "zukunft -> term76 Nt=4 TF=4 maxTF=1 @{0 261 1}\n",
      "zum -> term90 Nt=1 TF=1 maxTF=1 @{0 263 7}\n",
      "zur -> term102 Nt=2 TF=2 maxTF=1 @{0 265 1}\n"
     ]
    }
   ],
   "source": [
    "for kv in index.getLexicon():\n",
    "    print(f\"{kv.getKey()} -> {kv.getValue().toString()}\")"
   ]
  },
  {
   "cell_type": "code",
   "execution_count": 87,
   "id": "6725b30f-315c-47da-ab16-5b19d004c08d",
   "metadata": {},
   "outputs": [],
   "source": [
    "search_engine = pt.BatchRetrieve(index, wmodel=\"Tf\")"
   ]
  },
  {
   "cell_type": "code",
   "execution_count": 115,
   "id": "39a51740-0104-4307-a2c5-20155f2340b9",
   "metadata": {},
   "outputs": [
    {
     "data": {
      "text/html": [
       "<div>\n",
       "<style scoped>\n",
       "    .dataframe tbody tr th:only-of-type {\n",
       "        vertical-align: middle;\n",
       "    }\n",
       "\n",
       "    .dataframe tbody tr th {\n",
       "        vertical-align: top;\n",
       "    }\n",
       "\n",
       "    .dataframe thead th {\n",
       "        text-align: right;\n",
       "    }\n",
       "</style>\n",
       "<table border=\"1\" class=\"dataframe\">\n",
       "  <thead>\n",
       "    <tr style=\"text-align: right;\">\n",
       "      <th></th>\n",
       "      <th>qid</th>\n",
       "      <th>docid</th>\n",
       "      <th>docno</th>\n",
       "      <th>rank</th>\n",
       "      <th>score</th>\n",
       "      <th>query</th>\n",
       "    </tr>\n",
       "  </thead>\n",
       "  <tbody>\n",
       "    <tr>\n",
       "      <th>0</th>\n",
       "      <td>1</td>\n",
       "      <td>29</td>\n",
       "      <td>https://www.bibsonomy.org/bibtex/27f26b46919b0...</td>\n",
       "      <td>0</td>\n",
       "      <td>1.0</td>\n",
       "      <td>poster</td>\n",
       "    </tr>\n",
       "    <tr>\n",
       "      <th>1</th>\n",
       "      <td>1</td>\n",
       "      <td>30</td>\n",
       "      <td>https://www.bibsonomy.org/bibtex/27f26b46919b0...</td>\n",
       "      <td>1</td>\n",
       "      <td>1.0</td>\n",
       "      <td>poster</td>\n",
       "    </tr>\n",
       "    <tr>\n",
       "      <th>2</th>\n",
       "      <td>1</td>\n",
       "      <td>31</td>\n",
       "      <td>https://www.bibsonomy.org/bibtex/27f26b46919b0...</td>\n",
       "      <td>2</td>\n",
       "      <td>1.0</td>\n",
       "      <td>poster</td>\n",
       "    </tr>\n",
       "  </tbody>\n",
       "</table>\n",
       "</div>"
      ],
      "text/plain": [
       "  qid  docid                                              docno  rank  score  \\\n",
       "0   1     29  https://www.bibsonomy.org/bibtex/27f26b46919b0...     0    1.0   \n",
       "1   1     30  https://www.bibsonomy.org/bibtex/27f26b46919b0...     1    1.0   \n",
       "2   1     31  https://www.bibsonomy.org/bibtex/27f26b46919b0...     2    1.0   \n",
       "\n",
       "    query  \n",
       "0  poster  \n",
       "1  poster  \n",
       "2  poster  "
      ]
     },
     "execution_count": 115,
     "metadata": {},
     "output_type": "execute_result"
    }
   ],
   "source": [
    "search_engine.search(\"poster\")"
   ]
  },
  {
   "cell_type": "code",
   "execution_count": 116,
   "id": "77b7d66f-8937-4453-9880-190460855519",
   "metadata": {},
   "outputs": [],
   "source": [
    "ds_suchergebnis = search_engine.search(\"poster\")"
   ]
  },
  {
   "cell_type": "code",
   "execution_count": 121,
   "id": "f5dab311-3190-4a4a-b08d-8e63b2da1f51",
   "metadata": {},
   "outputs": [],
   "source": [
    "df_suchergebnis = pd.DataFrame(ds_suchergebnis)"
   ]
  },
  {
   "cell_type": "code",
   "execution_count": 145,
   "id": "252639ca-a094-4028-9d39-36057cd9149f",
   "metadata": {},
   "outputs": [
    {
     "data": {
      "text/html": [
       "<div>\n",
       "<style scoped>\n",
       "    .dataframe tbody tr th:only-of-type {\n",
       "        vertical-align: middle;\n",
       "    }\n",
       "\n",
       "    .dataframe tbody tr th {\n",
       "        vertical-align: top;\n",
       "    }\n",
       "\n",
       "    .dataframe thead th {\n",
       "        text-align: right;\n",
       "    }\n",
       "</style>\n",
       "<table border=\"1\" class=\"dataframe\">\n",
       "  <thead>\n",
       "    <tr style=\"text-align: right;\">\n",
       "      <th></th>\n",
       "      <th>qid</th>\n",
       "      <th>docid</th>\n",
       "      <th>docno</th>\n",
       "      <th>rank</th>\n",
       "      <th>score</th>\n",
       "      <th>query</th>\n",
       "    </tr>\n",
       "  </thead>\n",
       "  <tbody>\n",
       "    <tr>\n",
       "      <th>0</th>\n",
       "      <td>1</td>\n",
       "      <td>29</td>\n",
       "      <td>https://www.bibsonomy.org/bibtex/27f26b46919b0...</td>\n",
       "      <td>0</td>\n",
       "      <td>1.0</td>\n",
       "      <td>poster</td>\n",
       "    </tr>\n",
       "    <tr>\n",
       "      <th>1</th>\n",
       "      <td>1</td>\n",
       "      <td>30</td>\n",
       "      <td>https://www.bibsonomy.org/bibtex/27f26b46919b0...</td>\n",
       "      <td>1</td>\n",
       "      <td>1.0</td>\n",
       "      <td>poster</td>\n",
       "    </tr>\n",
       "    <tr>\n",
       "      <th>2</th>\n",
       "      <td>1</td>\n",
       "      <td>31</td>\n",
       "      <td>https://www.bibsonomy.org/bibtex/27f26b46919b0...</td>\n",
       "      <td>2</td>\n",
       "      <td>1.0</td>\n",
       "      <td>poster</td>\n",
       "    </tr>\n",
       "  </tbody>\n",
       "</table>\n",
       "</div>"
      ],
      "text/plain": [
       "  qid  docid                                              docno  rank  score  \\\n",
       "0   1     29  https://www.bibsonomy.org/bibtex/27f26b46919b0...     0    1.0   \n",
       "1   1     30  https://www.bibsonomy.org/bibtex/27f26b46919b0...     1    1.0   \n",
       "2   1     31  https://www.bibsonomy.org/bibtex/27f26b46919b0...     2    1.0   \n",
       "\n",
       "    query  \n",
       "0  poster  \n",
       "1  poster  \n",
       "2  poster  "
      ]
     },
     "execution_count": 145,
     "metadata": {},
     "output_type": "execute_result"
    }
   ],
   "source": [
    "df_suchergebnis"
   ]
  },
  {
   "cell_type": "code",
   "execution_count": 152,
   "id": "3f07b2de-fd98-4953-95a0-29f21eda7bde",
   "metadata": {},
   "outputs": [
    {
     "ename": "AttributeError",
     "evalue": "'DataFrame' object has no attribute 'get_topics'",
     "output_type": "error",
     "traceback": [
      "\u001b[0;31m---------------------------------------------------------------------------\u001b[0m",
      "\u001b[0;31mAttributeError\u001b[0m                            Traceback (most recent call last)",
      "\u001b[0;32m/tmp/ipykernel_29226/40190147.py\u001b[0m in \u001b[0;36m?\u001b[0;34m()\u001b[0m\n\u001b[1;32m      2\u001b[0m \u001b[0mbm25\u001b[0m \u001b[0;34m=\u001b[0m \u001b[0mpt\u001b[0m\u001b[0;34m.\u001b[0m\u001b[0mBatchRetrieve\u001b[0m\u001b[0;34m(\u001b[0m\u001b[0mindex\u001b[0m\u001b[0;34m,\u001b[0m \u001b[0mwmodel\u001b[0m\u001b[0;34m=\u001b[0m\u001b[0;34m\"BM25\"\u001b[0m\u001b[0;34m)\u001b[0m\u001b[0;34m\u001b[0m\u001b[0;34m\u001b[0m\u001b[0m\n\u001b[1;32m      3\u001b[0m pt.Experiment(\n\u001b[0;32m----> 4\u001b[0;31m     \u001b[0;34m[\u001b[0m\u001b[0mbm25\u001b[0m\u001b[0;34m]\u001b[0m\u001b[0;34m,\u001b[0m\u001b[0;34m\u001b[0m\u001b[0;34m\u001b[0m\u001b[0m\n\u001b[0m\u001b[1;32m      5\u001b[0m     \u001b[0mdf_suchergebnis\u001b[0m\u001b[0;34m.\u001b[0m\u001b[0mget_topics\u001b[0m\u001b[0;34m(\u001b[0m\u001b[0;34m)\u001b[0m\u001b[0;34m,\u001b[0m\u001b[0;34m\u001b[0m\u001b[0;34m\u001b[0m\u001b[0m\n\u001b[1;32m      6\u001b[0m     \u001b[0mdf_suchergebnis\u001b[0m\u001b[0;34m.\u001b[0m\u001b[0mget_qrels\u001b[0m\u001b[0;34m(\u001b[0m\u001b[0;34m)\u001b[0m\u001b[0;34m,\u001b[0m\u001b[0;34m\u001b[0m\u001b[0;34m\u001b[0m\u001b[0m\n\u001b[1;32m      7\u001b[0m     \u001b[0meval_metrics\u001b[0m\u001b[0;34m=\u001b[0m\u001b[0;34m[\u001b[0m\u001b[0mRR\u001b[0m\u001b[0;34m(\u001b[0m\u001b[0mrel\u001b[0m\u001b[0;34m=\u001b[0m\u001b[0;36m2\u001b[0m\u001b[0;34m)\u001b[0m\u001b[0;34m,\u001b[0m \u001b[0mnDCG\u001b[0m\u001b[0;34m@\u001b[0m\u001b[0;36m10\u001b[0m\u001b[0;34m,\u001b[0m \u001b[0mnDCG\u001b[0m\u001b[0;34m@\u001b[0m\u001b[0;36m100\u001b[0m\u001b[0;34m,\u001b[0m \u001b[0mAP\u001b[0m\u001b[0;34m(\u001b[0m\u001b[0mrel\u001b[0m\u001b[0;34m=\u001b[0m\u001b[0;36m2\u001b[0m\u001b[0;34m)\u001b[0m\u001b[0;34m]\u001b[0m\u001b[0;34m,\u001b[0m\u001b[0;34m\u001b[0m\u001b[0;34m\u001b[0m\u001b[0m\n",
      "\u001b[0;32m~/anaconda3/lib/python3.8/site-packages/pandas/core/generic.py\u001b[0m in \u001b[0;36m?\u001b[0;34m(self, name)\u001b[0m\n\u001b[1;32m   5985\u001b[0m             \u001b[0;32mand\u001b[0m \u001b[0mname\u001b[0m \u001b[0;32mnot\u001b[0m \u001b[0;32min\u001b[0m \u001b[0mself\u001b[0m\u001b[0;34m.\u001b[0m\u001b[0m_accessors\u001b[0m\u001b[0;34m\u001b[0m\u001b[0;34m\u001b[0m\u001b[0m\n\u001b[1;32m   5986\u001b[0m             \u001b[0;32mand\u001b[0m \u001b[0mself\u001b[0m\u001b[0;34m.\u001b[0m\u001b[0m_info_axis\u001b[0m\u001b[0;34m.\u001b[0m\u001b[0m_can_hold_identifiers_and_holds_name\u001b[0m\u001b[0;34m(\u001b[0m\u001b[0mname\u001b[0m\u001b[0;34m)\u001b[0m\u001b[0;34m\u001b[0m\u001b[0;34m\u001b[0m\u001b[0m\n\u001b[1;32m   5987\u001b[0m         ):\n\u001b[1;32m   5988\u001b[0m             \u001b[0;32mreturn\u001b[0m \u001b[0mself\u001b[0m\u001b[0;34m[\u001b[0m\u001b[0mname\u001b[0m\u001b[0;34m]\u001b[0m\u001b[0;34m\u001b[0m\u001b[0;34m\u001b[0m\u001b[0m\n\u001b[0;32m-> 5989\u001b[0;31m         \u001b[0;32mreturn\u001b[0m \u001b[0mobject\u001b[0m\u001b[0;34m.\u001b[0m\u001b[0m__getattribute__\u001b[0m\u001b[0;34m(\u001b[0m\u001b[0mself\u001b[0m\u001b[0;34m,\u001b[0m \u001b[0mname\u001b[0m\u001b[0;34m)\u001b[0m\u001b[0;34m\u001b[0m\u001b[0;34m\u001b[0m\u001b[0m\n\u001b[0m",
      "\u001b[0;31mAttributeError\u001b[0m: 'DataFrame' object has no attribute 'get_topics'"
     ]
    }
   ],
   "source": [
    "bm25 = pt.BatchRetrieve(index, wmodel=\"BM25\")\n",
    "pt.Experiment(\n",
    "    [bm25], \n",
    "    df_suchergebnis.get_topics(),\n",
    "    df_suchergebnis.get_qrels(),\n",
    "    eval_metrics=[RR(rel=2), nDCG@10, nDCG@100, AP(rel=2)],\n",
    "#                 ^ using ir_measures\n",
    ")"
   ]
  },
  {
   "cell_type": "code",
   "execution_count": 153,
   "id": "8731bf74-c09c-4dd2-b6a5-ee6d517d3108",
   "metadata": {},
   "outputs": [],
   "source": [
    "featureA = pt.apply.doc_score(lambda row: 5)\n",
    "featureB = pt.apply.doc_score(lambda row: 2)\n",
    "pipeline2f = bm25 >> (featureA ** featureB)"
   ]
  },
  {
   "cell_type": "code",
   "execution_count": null,
   "id": "8e464cf4-fd06-42c1-827c-715307edb6b3",
   "metadata": {},
   "outputs": [],
   "source": []
  }
 ],
 "metadata": {
  "kernelspec": {
   "display_name": "Python 3 (ipykernel)",
   "language": "python",
   "name": "python3"
  },
  "language_info": {
   "codemirror_mode": {
    "name": "ipython",
    "version": 3
   },
   "file_extension": ".py",
   "mimetype": "text/x-python",
   "name": "python",
   "nbconvert_exporter": "python",
   "pygments_lexer": "ipython3",
   "version": "3.8.18"
  }
 },
 "nbformat": 4,
 "nbformat_minor": 5
}
