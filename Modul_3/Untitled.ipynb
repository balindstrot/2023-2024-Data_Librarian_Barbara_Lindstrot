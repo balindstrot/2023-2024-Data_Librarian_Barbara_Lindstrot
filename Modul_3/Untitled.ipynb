{
 "cells": [
  {
   "cell_type": "code",
   "execution_count": 10,
   "id": "9f7724a3",
   "metadata": {},
   "outputs": [
    {
     "ename": "SyntaxError",
     "evalue": "invalid syntax (3785221327.py, line 1)",
     "output_type": "error",
     "traceback": [
      "\u001b[0;36m  Cell \u001b[0;32mIn[10], line 1\u001b[0;36m\u001b[0m\n\u001b[0;31m    sed -e '/^#/d' -e '/IMPOTANT/d' -e '/ISSN:/d' -e '/issn:/d' 2023-11-20-Article_list_dirty.txt | cut -f5,12 2023-11-20-Article_list_dirty.txt  > ergebnis.tsv\u001b[0m\n\u001b[0m           ^\u001b[0m\n\u001b[0;31mSyntaxError\u001b[0m\u001b[0;31m:\u001b[0m invalid syntax\n"
     ]
    }
   ],
   "source": [
    "sed -e '/^#/d' -e '/IMPOTANT/d' -e '/ISSN:/d' -e '/issn:/d' 2023-11-20-Article_list_dirty.txt | cut -f5,12 2023-11-20-Article_list_dirty.txt  > ergebnis.tsv\n"
   ]
  },
  {
   "cell_type": "code",
   "execution_count": null,
   "id": "25f36fe7",
   "metadata": {},
   "outputs": [],
   "source": []
  },
  {
   "cell_type": "code",
   "execution_count": null,
   "id": "5a5ebaea",
   "metadata": {},
   "outputs": [],
   "source": []
  }
 ],
 "metadata": {
  "kernelspec": {
   "display_name": "Python 3 (ipykernel)",
   "language": "python",
   "name": "python3"
  },
  "language_info": {
   "codemirror_mode": {
    "name": "ipython",
    "version": 3
   },
   "file_extension": ".py",
   "mimetype": "text/x-python",
   "name": "python",
   "nbconvert_exporter": "python",
   "pygments_lexer": "ipython3",
   "version": "3.11.5"
  }
 },
 "nbformat": 4,
 "nbformat_minor": 5
}
