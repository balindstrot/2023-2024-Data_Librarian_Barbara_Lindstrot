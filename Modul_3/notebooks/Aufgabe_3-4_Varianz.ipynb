{
 "cells": [
  {
   "cell_type": "code",
   "execution_count": 1,
   "id": "af172758-9649-44a2-a235-53d424ae9bc9",
   "metadata": {},
   "outputs": [
    {
     "name": "stderr",
     "output_type": "stream",
     "text": [
      "/tmp/ipykernel_16898/1167287715.py:2: DtypeWarning: Columns (13) have mixed types. Specify dtype option on import or set low_memory=False.\n",
      "  df = pd.read_csv(\"../data/Library_Usage.csv\")\n"
     ]
    }
   ],
   "source": [
    "import pandas as pd\n",
    "df = pd.read_csv(\"../data/Library_Usage.csv\")"
   ]
  },
  {
   "cell_type": "code",
   "execution_count": 2,
   "id": "15cb8d87-e5ca-4313-9030-d9b245177626",
   "metadata": {},
   "outputs": [
    {
     "data": {
      "text/plain": [
       "289361.88526816876"
      ]
     },
     "execution_count": 2,
     "metadata": {},
     "output_type": "execute_result"
    }
   ],
   "source": [
    "df['Total Checkouts'].var()"
   ]
  },
  {
   "cell_type": "code",
   "execution_count": 3,
   "id": "1ad0b734-f2e9-4b5e-a816-0ea98bba916d",
   "metadata": {},
   "outputs": [
    {
     "data": {
      "text/plain": [
       "537.9236797801049"
      ]
     },
     "execution_count": 3,
     "metadata": {},
     "output_type": "execute_result"
    }
   ],
   "source": [
    "df['Total Checkouts'].std()"
   ]
  },
  {
   "cell_type": "code",
   "execution_count": 4,
   "id": "2a8f11b6-963e-4276-b178-6d988b43f017",
   "metadata": {},
   "outputs": [
    {
     "data": {
      "text/plain": [
       "92724.17769573169"
      ]
     },
     "execution_count": 4,
     "metadata": {},
     "output_type": "execute_result"
    }
   ],
   "source": [
    "df['Total Renewals'].var()"
   ]
  },
  {
   "cell_type": "code",
   "execution_count": 5,
   "id": "6326dbc3-efd2-45e4-a61a-148698f4625b",
   "metadata": {},
   "outputs": [
    {
     "data": {
      "text/plain": [
       "304.5064493499796"
      ]
     },
     "execution_count": 5,
     "metadata": {},
     "output_type": "execute_result"
    }
   ],
   "source": [
    "df['Total Renewals'].std()"
   ]
  },
  {
   "cell_type": "markdown",
   "id": "c8e7aba8-dac7-45c1-867a-a11e164a2d98",
   "metadata": {},
   "source": [
    "Die Variable \"Total Checkouts\" streut mehr."
   ]
  },
  {
   "cell_type": "code",
   "execution_count": null,
   "id": "1eac0556-960f-41ab-bdbd-475cbd51a615",
   "metadata": {},
   "outputs": [],
   "source": []
  }
 ],
 "metadata": {
  "kernelspec": {
   "display_name": "Python 3 (ipykernel)",
   "language": "python",
   "name": "python3"
  },
  "language_info": {
   "codemirror_mode": {
    "name": "ipython",
    "version": 3
   },
   "file_extension": ".py",
   "mimetype": "text/x-python",
   "name": "python",
   "nbconvert_exporter": "python",
   "pygments_lexer": "ipython3",
   "version": "3.8.18"
  }
 },
 "nbformat": 4,
 "nbformat_minor": 5
}
