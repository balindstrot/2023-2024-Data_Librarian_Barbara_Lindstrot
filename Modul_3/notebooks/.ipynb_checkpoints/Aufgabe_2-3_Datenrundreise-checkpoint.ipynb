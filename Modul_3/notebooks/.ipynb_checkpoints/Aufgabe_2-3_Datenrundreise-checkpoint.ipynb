{
 "cells": [
  {
   "cell_type": "code",
   "execution_count": 1,
   "id": "2a1f0989-2b74-4c82-89ba-837d6c15883c",
   "metadata": {},
   "outputs": [],
   "source": [
    "import pandas as pd\n"
   ]
  },
  {
   "cell_type": "code",
   "execution_count": 2,
   "id": "a3396460-6ad0-48e5-a058-2eb85e5b8589",
   "metadata": {},
   "outputs": [
    {
     "data": {
      "text/html": [
       "<div>\n",
       "<style scoped>\n",
       "    .dataframe tbody tr th:only-of-type {\n",
       "        vertical-align: middle;\n",
       "    }\n",
       "\n",
       "    .dataframe tbody tr th {\n",
       "        vertical-align: top;\n",
       "    }\n",
       "\n",
       "    .dataframe thead th {\n",
       "        text-align: right;\n",
       "    }\n",
       "</style>\n",
       "<table border=\"1\" class=\"dataframe\">\n",
       "  <thead>\n",
       "    <tr style=\"text-align: right;\">\n",
       "      <th></th>\n",
       "      <th>Patron Type Code</th>\n",
       "      <th>Patron Type Definition</th>\n",
       "      <th>Total Checkouts</th>\n",
       "      <th>Total Renewals</th>\n",
       "      <th>Age Range</th>\n",
       "      <th>Home Library Code</th>\n",
       "      <th>Home Library Definition</th>\n",
       "      <th>Circulation Active Month</th>\n",
       "      <th>Circulation Active Year</th>\n",
       "      <th>Notice Preference Code</th>\n",
       "      <th>Notice Preference Definition</th>\n",
       "      <th>Provided Email Address</th>\n",
       "      <th>Year Patron Registered</th>\n",
       "      <th>Within San Francisco County</th>\n",
       "    </tr>\n",
       "  </thead>\n",
       "  <tbody>\n",
       "    <tr>\n",
       "      <th>0</th>\n",
       "      <td>1</td>\n",
       "      <td>Juvenile</td>\n",
       "      <td>0</td>\n",
       "      <td>0</td>\n",
       "      <td>0 to 9 years</td>\n",
       "      <td>r3</td>\n",
       "      <td>Richmond</td>\n",
       "      <td>NaN</td>\n",
       "      <td>NaN</td>\n",
       "      <td>z</td>\n",
       "      <td>Email</td>\n",
       "      <td>True</td>\n",
       "      <td>2022</td>\n",
       "      <td>True</td>\n",
       "    </tr>\n",
       "    <tr>\n",
       "      <th>1</th>\n",
       "      <td>2</td>\n",
       "      <td>Teen</td>\n",
       "      <td>0</td>\n",
       "      <td>0</td>\n",
       "      <td>10 to 19 years</td>\n",
       "      <td>x</td>\n",
       "      <td>Main</td>\n",
       "      <td>NaN</td>\n",
       "      <td>NaN</td>\n",
       "      <td>z</td>\n",
       "      <td>Email</td>\n",
       "      <td>True</td>\n",
       "      <td>2022</td>\n",
       "      <td>True</td>\n",
       "    </tr>\n",
       "    <tr>\n",
       "      <th>2</th>\n",
       "      <td>0</td>\n",
       "      <td>Adult</td>\n",
       "      <td>0</td>\n",
       "      <td>0</td>\n",
       "      <td>35 to 44 years</td>\n",
       "      <td>m4</td>\n",
       "      <td>Merced</td>\n",
       "      <td>NaN</td>\n",
       "      <td>NaN</td>\n",
       "      <td>z</td>\n",
       "      <td>Email</td>\n",
       "      <td>True</td>\n",
       "      <td>2019</td>\n",
       "      <td>True</td>\n",
       "    </tr>\n",
       "    <tr>\n",
       "      <th>3</th>\n",
       "      <td>2</td>\n",
       "      <td>Teen</td>\n",
       "      <td>0</td>\n",
       "      <td>0</td>\n",
       "      <td>10 to 19 years</td>\n",
       "      <td>x</td>\n",
       "      <td>Main</td>\n",
       "      <td>NaN</td>\n",
       "      <td>NaN</td>\n",
       "      <td>z</td>\n",
       "      <td>Email</td>\n",
       "      <td>True</td>\n",
       "      <td>2021</td>\n",
       "      <td>True</td>\n",
       "    </tr>\n",
       "    <tr>\n",
       "      <th>4</th>\n",
       "      <td>2</td>\n",
       "      <td>Teen</td>\n",
       "      <td>0</td>\n",
       "      <td>0</td>\n",
       "      <td>10 to 19 years</td>\n",
       "      <td>b2</td>\n",
       "      <td>Bayview</td>\n",
       "      <td>NaN</td>\n",
       "      <td>NaN</td>\n",
       "      <td>z</td>\n",
       "      <td>Email</td>\n",
       "      <td>True</td>\n",
       "      <td>2013</td>\n",
       "      <td>True</td>\n",
       "    </tr>\n",
       "  </tbody>\n",
       "</table>\n",
       "</div>"
      ],
      "text/plain": [
       "   Patron Type Code Patron Type Definition  Total Checkouts  Total Renewals  \\\n",
       "0                 1               Juvenile                0               0   \n",
       "1                 2                   Teen                0               0   \n",
       "2                 0                  Adult                0               0   \n",
       "3                 2                   Teen                0               0   \n",
       "4                 2                   Teen                0               0   \n",
       "\n",
       "        Age Range Home Library Code Home Library Definition  \\\n",
       "0    0 to 9 years                r3                Richmond   \n",
       "1  10 to 19 years                 x                    Main   \n",
       "2  35 to 44 years                m4                  Merced   \n",
       "3  10 to 19 years                 x                    Main   \n",
       "4  10 to 19 years                b2                 Bayview   \n",
       "\n",
       "   Circulation Active Month  Circulation Active Year Notice Preference Code  \\\n",
       "0                       NaN                      NaN                      z   \n",
       "1                       NaN                      NaN                      z   \n",
       "2                       NaN                      NaN                      z   \n",
       "3                       NaN                      NaN                      z   \n",
       "4                       NaN                      NaN                      z   \n",
       "\n",
       "  Notice Preference Definition  Provided Email Address  \\\n",
       "0                        Email                    True   \n",
       "1                        Email                    True   \n",
       "2                        Email                    True   \n",
       "3                        Email                    True   \n",
       "4                        Email                    True   \n",
       "\n",
       "   Year Patron Registered  Within San Francisco County  \n",
       "0                    2022                         True  \n",
       "1                    2022                         True  \n",
       "2                    2019                         True  \n",
       "3                    2021                         True  \n",
       "4                    2013                         True  "
      ]
     },
     "execution_count": 2,
     "metadata": {},
     "output_type": "execute_result"
    }
   ],
   "source": [
    "df = pd.read_csv(\"../data/Library_Usage_Small.csv\")\n",
    "df.head()"
   ]
  },
  {
   "cell_type": "code",
   "execution_count": 3,
   "id": "b640db84-f662-4e49-ac25-a209bd1794ee",
   "metadata": {},
   "outputs": [],
   "source": [
    "json_datei = df.to_json(orient='records')"
   ]
  },
  {
   "cell_type": "code",
   "execution_count": 4,
   "id": "aedf5642-b088-4cdc-8716-faefdd355cea",
   "metadata": {},
   "outputs": [],
   "source": [
    "# JSON-Datei speichern\n",
    "with open('../data/Library_Usage_Small.json', 'w') as f:\n",
    "    f.write(json_datei)"
   ]
  },
  {
   "cell_type": "code",
   "execution_count": 5,
   "id": "6f9d43e1-f616-448d-91dd-5ac57dbbf4c6",
   "metadata": {},
   "outputs": [],
   "source": [
    "html_datei = df.to_html()"
   ]
  },
  {
   "cell_type": "code",
   "execution_count": 6,
   "id": "fbcbe129-e940-4c5b-bed8-70eeee66b097",
   "metadata": {
    "scrolled": true
   },
   "outputs": [
    {
     "data": {
      "text/plain": [
       "'<table border=\"1\" class=\"dataframe\">\\n  <thead>\\n    <tr style=\"text-align: right;\">\\n      <th></th>\\n      <th>Patron Type Code</th>\\n      <th>Patron Type Definition</th>\\n      <th>Total Checkouts</th>\\n      <th>Total Renewals</th>\\n      <th>Age Range</th>\\n      <th>Home Library Code</th>\\n      <th>Home Library Definition</th>\\n      <th>Circulation Active Month</th>\\n      <th>Circulation Active Year</th>\\n      <th>Notice Preference Code</th>\\n      <th>Notice Preference Definition</th>\\n      <th>Provided Email Address</th>\\n      <th>Year Patron Registered</th>\\n      <th>Within San Francisco County</th>\\n    </tr>\\n  </thead>\\n  <tbody>\\n    <tr>\\n      <th>0</th>\\n      <td>1</td>\\n      <td>Juvenile</td>\\n      <td>0</td>\\n      <td>0</td>\\n      <td>0 to 9 years</td>\\n      <td>r3</td>\\n      <td>Richmond</td>\\n      <td>NaN</td>\\n      <td>NaN</td>\\n      <td>z</td>\\n      <td>Email</td>\\n      <td>True</td>\\n      <td>2022</td>\\n      <td>True</td>\\n    </tr>\\n    <tr>\\n      <th>1</th>\\n      <td>2</td>\\n      <td>Teen</td>\\n      <td>0</td>\\n      <td>0</td>\\n      <td>10 to 19 years</td>\\n      <td>x</td>\\n      <td>Main</td>\\n      <td>NaN</td>\\n      <td>NaN</td>\\n      <td>z</td>\\n      <td>Email</td>\\n      <td>True</td>\\n      <td>2022</td>\\n      <td>True</td>\\n    </tr>\\n    <tr>\\n      <th>2</th>\\n      <td>0</td>\\n      <td>Adult</td>\\n      <td>0</td>\\n      <td>0</td>\\n      <td>35 to 44 years</td>\\n      <td>m4</td>\\n      <td>Merced</td>\\n      <td>NaN</td>\\n      <td>NaN</td>\\n      <td>z</td>\\n      <td>Email</td>\\n      <td>True</td>\\n      <td>2019</td>\\n      <td>True</td>\\n    </tr>\\n    <tr>\\n      <th>3</th>\\n      <td>2</td>\\n      <td>Teen</td>\\n      <td>0</td>\\n      <td>0</td>\\n      <td>10 to 19 years</td>\\n      <td>x</td>\\n      <td>Main</td>\\n      <td>NaN</td>\\n      <td>NaN</td>\\n      <td>z</td>\\n      <td>Email</td>\\n      <td>True</td>\\n      <td>2021</td>\\n      <td>True</td>\\n    </tr>\\n    <tr>\\n      <th>4</th>\\n      <td>2</td>\\n      <td>Teen</td>\\n      <td>0</td>\\n      <td>0</td>\\n      <td>10 to 19 years</td>\\n      <td>b2</td>\\n      <td>Bayview</td>\\n      <td>NaN</td>\\n      <td>NaN</td>\\n      <td>z</td>\\n      <td>Email</td>\\n      <td>True</td>\\n      <td>2013</td>\\n      <td>True</td>\\n    </tr>\\n    <tr>\\n      <th>5</th>\\n      <td>2</td>\\n      <td>Teen</td>\\n      <td>0</td>\\n      <td>0</td>\\n      <td>10 to 19 years</td>\\n      <td>x</td>\\n      <td>Main</td>\\n      <td>NaN</td>\\n      <td>NaN</td>\\n      <td>z</td>\\n      <td>Email</td>\\n      <td>True</td>\\n      <td>2021</td>\\n      <td>False</td>\\n    </tr>\\n    <tr>\\n      <th>6</th>\\n      <td>2</td>\\n      <td>Teen</td>\\n      <td>0</td>\\n      <td>0</td>\\n      <td>10 to 19 years</td>\\n      <td>x</td>\\n      <td>Main</td>\\n      <td>NaN</td>\\n      <td>NaN</td>\\n      <td>z</td>\\n      <td>Email</td>\\n      <td>True</td>\\n      <td>2021</td>\\n      <td>False</td>\\n    </tr>\\n    <tr>\\n      <th>7</th>\\n      <td>2</td>\\n      <td>Teen</td>\\n      <td>0</td>\\n      <td>0</td>\\n      <td>10 to 19 years</td>\\n      <td>x</td>\\n      <td>Main</td>\\n      <td>NaN</td>\\n      <td>NaN</td>\\n      <td>z</td>\\n      <td>Email</td>\\n      <td>True</td>\\n      <td>2021</td>\\n      <td>True</td>\\n    </tr>\\n    <tr>\\n      <th>8</th>\\n      <td>0</td>\\n      <td>Adult</td>\\n      <td>0</td>\\n      <td>0</td>\\n      <td>35 to 44 years</td>\\n      <td>x</td>\\n      <td>Main</td>\\n      <td>NaN</td>\\n      <td>NaN</td>\\n      <td>z</td>\\n      <td>Email</td>\\n      <td>True</td>\\n      <td>2019</td>\\n      <td>False</td>\\n    </tr>\\n    <tr>\\n      <th>9</th>\\n      <td>2</td>\\n      <td>Teen</td>\\n      <td>0</td>\\n      <td>0</td>\\n      <td>10 to 19 years</td>\\n      <td>x</td>\\n      <td>Main</td>\\n      <td>NaN</td>\\n      <td>NaN</td>\\n      <td>z</td>\\n      <td>Email</td>\\n      <td>True</td>\\n      <td>2021</td>\\n      <td>False</td>\\n    </tr>\\n  </tbody>\\n</table>'"
      ]
     },
     "execution_count": 6,
     "metadata": {},
     "output_type": "execute_result"
    }
   ],
   "source": [
    "html_datei"
   ]
  },
  {
   "cell_type": "code",
   "execution_count": 7,
   "id": "1538822c-e5cf-4674-88d1-cdfdd8c65d85",
   "metadata": {},
   "outputs": [],
   "source": [
    "# HTML-Datei speichern\n",
    "with open('../data/Library_Usage_Small.html', 'w') as f:\n",
    "    f.write(html_datei)"
   ]
  },
  {
   "cell_type": "code",
   "execution_count": 8,
   "id": "b2c9609d-4b03-43fc-9c5f-0b7cd8af6372",
   "metadata": {},
   "outputs": [],
   "source": [
    "df_html = pd.read_html(\"../data/Library_Usage_Small.html\")"
   ]
  },
  {
   "cell_type": "code",
   "execution_count": 9,
   "id": "e81233b9-d3da-422e-b65f-8cf6a618e2d3",
   "metadata": {
    "scrolled": true
   },
   "outputs": [
    {
     "data": {
      "text/plain": [
       "[   Unnamed: 0  Patron Type Code Patron Type Definition  Total Checkouts  \\\n",
       " 0           0                 1               Juvenile                0   \n",
       " 1           1                 2                   Teen                0   \n",
       " 2           2                 0                  Adult                0   \n",
       " 3           3                 2                   Teen                0   \n",
       " 4           4                 2                   Teen                0   \n",
       " 5           5                 2                   Teen                0   \n",
       " 6           6                 2                   Teen                0   \n",
       " 7           7                 2                   Teen                0   \n",
       " 8           8                 0                  Adult                0   \n",
       " 9           9                 2                   Teen                0   \n",
       " \n",
       "    Total Renewals       Age Range Home Library Code Home Library Definition  \\\n",
       " 0               0    0 to 9 years                r3                Richmond   \n",
       " 1               0  10 to 19 years                 x                    Main   \n",
       " 2               0  35 to 44 years                m4                  Merced   \n",
       " 3               0  10 to 19 years                 x                    Main   \n",
       " 4               0  10 to 19 years                b2                 Bayview   \n",
       " 5               0  10 to 19 years                 x                    Main   \n",
       " 6               0  10 to 19 years                 x                    Main   \n",
       " 7               0  10 to 19 years                 x                    Main   \n",
       " 8               0  35 to 44 years                 x                    Main   \n",
       " 9               0  10 to 19 years                 x                    Main   \n",
       " \n",
       "    Circulation Active Month  Circulation Active Year Notice Preference Code  \\\n",
       " 0                       NaN                      NaN                      z   \n",
       " 1                       NaN                      NaN                      z   \n",
       " 2                       NaN                      NaN                      z   \n",
       " 3                       NaN                      NaN                      z   \n",
       " 4                       NaN                      NaN                      z   \n",
       " 5                       NaN                      NaN                      z   \n",
       " 6                       NaN                      NaN                      z   \n",
       " 7                       NaN                      NaN                      z   \n",
       " 8                       NaN                      NaN                      z   \n",
       " 9                       NaN                      NaN                      z   \n",
       " \n",
       "   Notice Preference Definition  Provided Email Address  \\\n",
       " 0                        Email                    True   \n",
       " 1                        Email                    True   \n",
       " 2                        Email                    True   \n",
       " 3                        Email                    True   \n",
       " 4                        Email                    True   \n",
       " 5                        Email                    True   \n",
       " 6                        Email                    True   \n",
       " 7                        Email                    True   \n",
       " 8                        Email                    True   \n",
       " 9                        Email                    True   \n",
       " \n",
       "    Year Patron Registered  Within San Francisco County  \n",
       " 0                    2022                         True  \n",
       " 1                    2022                         True  \n",
       " 2                    2019                         True  \n",
       " 3                    2021                         True  \n",
       " 4                    2013                         True  \n",
       " 5                    2021                        False  \n",
       " 6                    2021                        False  \n",
       " 7                    2021                         True  \n",
       " 8                    2019                        False  \n",
       " 9                    2021                        False  ]"
      ]
     },
     "execution_count": 9,
     "metadata": {},
     "output_type": "execute_result"
    }
   ],
   "source": [
    "df_html"
   ]
  },
  {
   "cell_type": "code",
   "execution_count": 10,
   "id": "28e19187-8f74-4f9a-a3f9-cd247849b71c",
   "metadata": {},
   "outputs": [],
   "source": [
    "df_xlsx = df.to_excel('output.xlsx')"
   ]
  },
  {
   "cell_type": "code",
   "execution_count": 11,
   "id": "1e78465f-c2d0-4184-bfac-520ae168689c",
   "metadata": {},
   "outputs": [],
   "source": [
    "# XLSX-Datei speichern\n",
    "with open('../data/Library_Usage_Small.xlsx', 'w') as f:\n",
    "    f.write(\"df_xlsx\")"
   ]
  },
  {
   "cell_type": "code",
   "execution_count": 12,
   "id": "1cfa1b2c-014a-438a-95a5-87159375ee71",
   "metadata": {},
   "outputs": [],
   "source": [
    "df_csv2 = df.to_csv()"
   ]
  },
  {
   "cell_type": "code",
   "execution_count": 13,
   "id": "d6be730d-c951-4432-abb2-2028a884d69c",
   "metadata": {},
   "outputs": [],
   "source": [
    "with open('../data/Library_Usage_Small2.csv', 'w') as f:\n",
    "    f.write(df_csv2)"
   ]
  },
  {
   "cell_type": "code",
   "execution_count": null,
   "id": "5e981545-aac4-4ccb-a69a-73b5b82c196d",
   "metadata": {},
   "outputs": [],
   "source": []
  }
 ],
 "metadata": {
  "kernelspec": {
   "display_name": "Python 3 (ipykernel)",
   "language": "python",
   "name": "python3"
  },
  "language_info": {
   "codemirror_mode": {
    "name": "ipython",
    "version": 3
   },
   "file_extension": ".py",
   "mimetype": "text/x-python",
   "name": "python",
   "nbconvert_exporter": "python",
   "pygments_lexer": "ipython3",
   "version": "3.8.18"
  }
 },
 "nbformat": 4,
 "nbformat_minor": 5
}
