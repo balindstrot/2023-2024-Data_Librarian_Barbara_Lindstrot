{
 "cells": [
  {
   "cell_type": "code",
   "execution_count": 1,
   "id": "265462f4-9fc2-4eb9-8646-b26e8cecffec",
   "metadata": {},
   "outputs": [
    {
     "name": "stderr",
     "output_type": "stream",
     "text": [
      "/tmp/ipykernel_16406/204745613.py:2: DtypeWarning: Columns (13) have mixed types. Specify dtype option on import or set low_memory=False.\n",
      "  df = pd.read_csv(\"../data/Library_Usage.csv\")\n"
     ]
    },
    {
     "data": {
      "text/plain": [
       "160.29484287973597"
      ]
     },
     "execution_count": 1,
     "metadata": {},
     "output_type": "execute_result"
    }
   ],
   "source": [
    "import pandas as pd\n",
    "df = pd.read_csv(\"../data/Library_Usage.csv\")\n",
    "df['Total Checkouts'].mean()"
   ]
  },
  {
   "cell_type": "code",
   "execution_count": 2,
   "id": "3d66e645-63c0-400f-b869-c9a6789379e3",
   "metadata": {},
   "outputs": [
    {
     "data": {
      "text/plain": [
       "7.0"
      ]
     },
     "execution_count": 2,
     "metadata": {},
     "output_type": "execute_result"
    }
   ],
   "source": [
    "df['Total Checkouts'].median()"
   ]
  },
  {
   "cell_type": "markdown",
   "id": "0879a009-a273-4e78-8545-8d40abb555b6",
   "metadata": {},
   "source": [
    "Der Median ist die Zahl, die in der Mitte steht, wenn alle Zahlen der Reihe nach aufgelistet sind. Der Mittelwert wird Berechnet, in dem alle Werte summiert und durch die Anzahl geteilt werden. Statistisch aussagekräfiger ist meistens der Mittelwert."
   ]
  },
  {
   "cell_type": "code",
   "execution_count": null,
   "id": "75edc8eb-6ac0-4c82-841f-91db900e6aa4",
   "metadata": {},
   "outputs": [],
   "source": []
  }
 ],
 "metadata": {
  "kernelspec": {
   "display_name": "Python 3 (ipykernel)",
   "language": "python",
   "name": "python3"
  },
  "language_info": {
   "codemirror_mode": {
    "name": "ipython",
    "version": 3
   },
   "file_extension": ".py",
   "mimetype": "text/x-python",
   "name": "python",
   "nbconvert_exporter": "python",
   "pygments_lexer": "ipython3",
   "version": "3.8.18"
  }
 },
 "nbformat": 4,
 "nbformat_minor": 5
}
