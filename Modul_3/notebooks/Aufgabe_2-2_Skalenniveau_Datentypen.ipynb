{
 "cells": [
  {
   "cell_type": "code",
   "execution_count": 2,
   "id": "a97203ab-2313-4c0c-a4e3-6bff71e97774",
   "metadata": {},
   "outputs": [],
   "source": [
    "import pandas as pd"
   ]
  },
  {
   "cell_type": "code",
   "execution_count": 3,
   "id": "c5d5bccd-c544-4cef-b809-a5b3f50adb59",
   "metadata": {},
   "outputs": [
    {
     "name": "stdout",
     "output_type": "stream",
     "text": [
      "  month  temp  below_zero\n",
      "0   Jan    -5        True\n",
      "1   Feb     2       False\n",
      "2   Mar     3       False\n"
     ]
    }
   ],
   "source": [
    "\n",
    "data = {'month': ['Jan', 'Feb', 'Mar'],\n",
    "        'temp': [-5, 2, 3],\n",
    "         'below_zero': [True, False, False]}\n",
    "df = pd.DataFrame(data)\n",
    "print(df)"
   ]
  },
  {
   "cell_type": "markdown",
   "id": "18880a06-76c3-468b-9e8f-321955161ed0",
   "metadata": {},
   "source": [
    "month = Ordinalscala\n",
    "temp = Metrische Skala\n",
    "below_zero = Nominalskala"
   ]
  },
  {
   "cell_type": "markdown",
   "id": "a8f4c01b-358f-4f78-8018-50c2b46d5bb6",
   "metadata": {},
   "source": [
    "month, below_zero => diskret\n",
    "temp => stetig"
   ]
  },
  {
   "cell_type": "code",
   "execution_count": 4,
   "id": "e4faa953-d7f5-4b51-b591-7b6fc9b6e8dc",
   "metadata": {},
   "outputs": [
    {
     "data": {
      "text/plain": [
       "dtype('O')"
      ]
     },
     "execution_count": 4,
     "metadata": {},
     "output_type": "execute_result"
    }
   ],
   "source": [
    "df['month'].dtype"
   ]
  },
  {
   "cell_type": "code",
   "execution_count": 5,
   "id": "0a7e903a-6f67-493a-8bd2-594da4ba5783",
   "metadata": {},
   "outputs": [
    {
     "data": {
      "text/plain": [
       "dtype('int64')"
      ]
     },
     "execution_count": 5,
     "metadata": {},
     "output_type": "execute_result"
    }
   ],
   "source": [
    "df['temp'].dtype"
   ]
  },
  {
   "cell_type": "code",
   "execution_count": 6,
   "id": "a582543f-7be3-4912-8549-6902b2a7dfe0",
   "metadata": {},
   "outputs": [
    {
     "data": {
      "text/plain": [
       "dtype('bool')"
      ]
     },
     "execution_count": 6,
     "metadata": {},
     "output_type": "execute_result"
    }
   ],
   "source": [
    "df['below_zero'].dtype"
   ]
  },
  {
   "cell_type": "code",
   "execution_count": 7,
   "id": "7af4786a-7718-43ee-9948-b56cca168884",
   "metadata": {},
   "outputs": [],
   "source": [
    "row = ['Apr',5,False]\n",
    "new_index = len(df)\n",
    "df.loc[new_index] = row"
   ]
  },
  {
   "cell_type": "code",
   "execution_count": 8,
   "id": "e1b6e30a-c3a2-4d13-aedb-0c6ff66f94dd",
   "metadata": {},
   "outputs": [
    {
     "data": {
      "text/html": [
       "<div>\n",
       "<style scoped>\n",
       "    .dataframe tbody tr th:only-of-type {\n",
       "        vertical-align: middle;\n",
       "    }\n",
       "\n",
       "    .dataframe tbody tr th {\n",
       "        vertical-align: top;\n",
       "    }\n",
       "\n",
       "    .dataframe thead th {\n",
       "        text-align: right;\n",
       "    }\n",
       "</style>\n",
       "<table border=\"1\" class=\"dataframe\">\n",
       "  <thead>\n",
       "    <tr style=\"text-align: right;\">\n",
       "      <th></th>\n",
       "      <th>month</th>\n",
       "      <th>temp</th>\n",
       "      <th>below_zero</th>\n",
       "    </tr>\n",
       "  </thead>\n",
       "  <tbody>\n",
       "    <tr>\n",
       "      <th>0</th>\n",
       "      <td>Jan</td>\n",
       "      <td>-5</td>\n",
       "      <td>True</td>\n",
       "    </tr>\n",
       "    <tr>\n",
       "      <th>1</th>\n",
       "      <td>Feb</td>\n",
       "      <td>2</td>\n",
       "      <td>False</td>\n",
       "    </tr>\n",
       "    <tr>\n",
       "      <th>2</th>\n",
       "      <td>Mar</td>\n",
       "      <td>3</td>\n",
       "      <td>False</td>\n",
       "    </tr>\n",
       "    <tr>\n",
       "      <th>3</th>\n",
       "      <td>Apr</td>\n",
       "      <td>5</td>\n",
       "      <td>False</td>\n",
       "    </tr>\n",
       "  </tbody>\n",
       "</table>\n",
       "</div>"
      ],
      "text/plain": [
       "  month  temp  below_zero\n",
       "0   Jan    -5        True\n",
       "1   Feb     2       False\n",
       "2   Mar     3       False\n",
       "3   Apr     5       False"
      ]
     },
     "execution_count": 8,
     "metadata": {},
     "output_type": "execute_result"
    }
   ],
   "source": [
    "df"
   ]
  },
  {
   "cell_type": "code",
   "execution_count": 9,
   "id": "2d624366-2844-42e1-b0bf-6466ff242631",
   "metadata": {},
   "outputs": [],
   "source": [
    "jahre = {2020}"
   ]
  },
  {
   "cell_type": "code",
   "execution_count": 11,
   "id": "9a2bb022-3f96-41e1-8bcb-5904cb1cd650",
   "metadata": {},
   "outputs": [],
   "source": [
    "jahr = ['2020', '2020', '2020', '2020']\n",
    "df.insert(loc=3, column='year', value=jahr)"
   ]
  },
  {
   "cell_type": "code",
   "execution_count": 12,
   "id": "0ea96dd4-1935-4a2e-9169-816a51f75f93",
   "metadata": {},
   "outputs": [
    {
     "data": {
      "text/html": [
       "<div>\n",
       "<style scoped>\n",
       "    .dataframe tbody tr th:only-of-type {\n",
       "        vertical-align: middle;\n",
       "    }\n",
       "\n",
       "    .dataframe tbody tr th {\n",
       "        vertical-align: top;\n",
       "    }\n",
       "\n",
       "    .dataframe thead th {\n",
       "        text-align: right;\n",
       "    }\n",
       "</style>\n",
       "<table border=\"1\" class=\"dataframe\">\n",
       "  <thead>\n",
       "    <tr style=\"text-align: right;\">\n",
       "      <th></th>\n",
       "      <th>month</th>\n",
       "      <th>temp</th>\n",
       "      <th>below_zero</th>\n",
       "      <th>year</th>\n",
       "    </tr>\n",
       "  </thead>\n",
       "  <tbody>\n",
       "    <tr>\n",
       "      <th>0</th>\n",
       "      <td>Jan</td>\n",
       "      <td>-5</td>\n",
       "      <td>True</td>\n",
       "      <td>2020</td>\n",
       "    </tr>\n",
       "    <tr>\n",
       "      <th>1</th>\n",
       "      <td>Feb</td>\n",
       "      <td>2</td>\n",
       "      <td>False</td>\n",
       "      <td>2020</td>\n",
       "    </tr>\n",
       "    <tr>\n",
       "      <th>2</th>\n",
       "      <td>Mar</td>\n",
       "      <td>3</td>\n",
       "      <td>False</td>\n",
       "      <td>2020</td>\n",
       "    </tr>\n",
       "    <tr>\n",
       "      <th>3</th>\n",
       "      <td>Apr</td>\n",
       "      <td>5</td>\n",
       "      <td>False</td>\n",
       "      <td>2020</td>\n",
       "    </tr>\n",
       "  </tbody>\n",
       "</table>\n",
       "</div>"
      ],
      "text/plain": [
       "  month  temp  below_zero  year\n",
       "0   Jan    -5        True  2020\n",
       "1   Feb     2       False  2020\n",
       "2   Mar     3       False  2020\n",
       "3   Apr     5       False  2020"
      ]
     },
     "execution_count": 12,
     "metadata": {},
     "output_type": "execute_result"
    }
   ],
   "source": [
    "df"
   ]
  },
  {
   "cell_type": "code",
   "execution_count": null,
   "id": "75a35675-8c9a-4981-885e-ca4fbf30284a",
   "metadata": {},
   "outputs": [],
   "source": []
  }
 ],
 "metadata": {
  "kernelspec": {
   "display_name": "Python 3 (ipykernel)",
   "language": "python",
   "name": "python3"
  },
  "language_info": {
   "codemirror_mode": {
    "name": "ipython",
    "version": 3
   },
   "file_extension": ".py",
   "mimetype": "text/x-python",
   "name": "python",
   "nbconvert_exporter": "python",
   "pygments_lexer": "ipython3",
   "version": "3.8.18"
  }
 },
 "nbformat": 4,
 "nbformat_minor": 5
}
