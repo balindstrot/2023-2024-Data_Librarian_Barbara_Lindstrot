{
 "cells": [
  {
   "cell_type": "code",
   "execution_count": 3,
   "id": "57842808-e32b-4ce8-89fc-dbd5729e23b8",
   "metadata": {},
   "outputs": [
    {
     "name": "stderr",
     "output_type": "stream",
     "text": [
      "/tmp/ipykernel_7793/1353053622.py:2: DtypeWarning: Columns (13) have mixed types. Specify dtype option on import or set low_memory=False.\n",
      "  df = pd.read_csv(\"../data/Library_Usage.csv\")\n"
     ]
    },
    {
     "data": {
      "text/plain": [
       "Age Range\n",
       "25 to 34 years       92669\n",
       "35 to 44 years       81719\n",
       "10 to 19 years       66857\n",
       "45 to 54 years       48319\n",
       "0 to 9 years         32692\n",
       "65 to 74 years       31714\n",
       "20 to 24 years       25381\n",
       "75 years and over    19297\n",
       "55 to 59 years       19076\n",
       "60 to 64 years       17654\n",
       "Name: count, dtype: int64"
      ]
     },
     "execution_count": 3,
     "metadata": {},
     "output_type": "execute_result"
    }
   ],
   "source": [
    "import pandas as pd\n",
    "df = pd.read_csv(\"../data/Library_Usage.csv\")\n",
    "df['Age Range'].value_counts()"
   ]
  },
  {
   "cell_type": "code",
   "execution_count": 4,
   "id": "7bcc9aed-f166-481d-9e71-07b41257012b",
   "metadata": {},
   "outputs": [
    {
     "data": {
      "text/html": [
       "<div>\n",
       "<style scoped>\n",
       "    .dataframe tbody tr th:only-of-type {\n",
       "        vertical-align: middle;\n",
       "    }\n",
       "\n",
       "    .dataframe tbody tr th {\n",
       "        vertical-align: top;\n",
       "    }\n",
       "\n",
       "    .dataframe thead th {\n",
       "        text-align: right;\n",
       "    }\n",
       "</style>\n",
       "<table border=\"1\" class=\"dataframe\">\n",
       "  <thead>\n",
       "    <tr style=\"text-align: right;\">\n",
       "      <th></th>\n",
       "      <th>Patron Type Code</th>\n",
       "      <th>Patron Type Definition</th>\n",
       "      <th>Total Checkouts</th>\n",
       "      <th>Total Renewals</th>\n",
       "      <th>Age Range</th>\n",
       "      <th>Home Library Code</th>\n",
       "      <th>Home Library Definition</th>\n",
       "      <th>Circulation Active Month</th>\n",
       "      <th>Circulation Active Year</th>\n",
       "      <th>Notice Preference Code</th>\n",
       "      <th>Notice Preference Definition</th>\n",
       "      <th>Provided Email Address</th>\n",
       "      <th>Year Patron Registered</th>\n",
       "      <th>Within San Francisco County</th>\n",
       "    </tr>\n",
       "  </thead>\n",
       "  <tbody>\n",
       "    <tr>\n",
       "      <th>0</th>\n",
       "      <td>5</td>\n",
       "      <td>Staff</td>\n",
       "      <td>53</td>\n",
       "      <td>15</td>\n",
       "      <td>NaN</td>\n",
       "      <td>b2</td>\n",
       "      <td>Bayview</td>\n",
       "      <td>Mar</td>\n",
       "      <td>2023.0</td>\n",
       "      <td>z</td>\n",
       "      <td>Email</td>\n",
       "      <td>True</td>\n",
       "      <td>2003</td>\n",
       "      <td>False</td>\n",
       "    </tr>\n",
       "    <tr>\n",
       "      <th>1</th>\n",
       "      <td>5</td>\n",
       "      <td>Staff</td>\n",
       "      <td>480</td>\n",
       "      <td>378</td>\n",
       "      <td>NaN</td>\n",
       "      <td>e9</td>\n",
       "      <td>Excelsior</td>\n",
       "      <td>Jun</td>\n",
       "      <td>2023.0</td>\n",
       "      <td>z</td>\n",
       "      <td>Email</td>\n",
       "      <td>True</td>\n",
       "      <td>2003</td>\n",
       "      <td>False</td>\n",
       "    </tr>\n",
       "    <tr>\n",
       "      <th>2</th>\n",
       "      <td>5</td>\n",
       "      <td>Staff</td>\n",
       "      <td>70</td>\n",
       "      <td>33</td>\n",
       "      <td>45 to 54 years</td>\n",
       "      <td>n4</td>\n",
       "      <td>Noe Valley</td>\n",
       "      <td>Jan</td>\n",
       "      <td>2023.0</td>\n",
       "      <td>z</td>\n",
       "      <td>Email</td>\n",
       "      <td>True</td>\n",
       "      <td>2011</td>\n",
       "      <td>False</td>\n",
       "    </tr>\n",
       "    <tr>\n",
       "      <th>3</th>\n",
       "      <td>5</td>\n",
       "      <td>Staff</td>\n",
       "      <td>3934</td>\n",
       "      <td>2140</td>\n",
       "      <td>NaN</td>\n",
       "      <td>o2</td>\n",
       "      <td>Ocean View</td>\n",
       "      <td>Jul</td>\n",
       "      <td>2023.0</td>\n",
       "      <td>z</td>\n",
       "      <td>Email</td>\n",
       "      <td>True</td>\n",
       "      <td>2003</td>\n",
       "      <td>False</td>\n",
       "    </tr>\n",
       "    <tr>\n",
       "      <th>4</th>\n",
       "      <td>5</td>\n",
       "      <td>Staff</td>\n",
       "      <td>1118</td>\n",
       "      <td>1035</td>\n",
       "      <td>NaN</td>\n",
       "      <td>o7</td>\n",
       "      <td>Ortega</td>\n",
       "      <td>Jul</td>\n",
       "      <td>2023.0</td>\n",
       "      <td>z</td>\n",
       "      <td>Email</td>\n",
       "      <td>True</td>\n",
       "      <td>2003</td>\n",
       "      <td>False</td>\n",
       "    </tr>\n",
       "  </tbody>\n",
       "</table>\n",
       "</div>"
      ],
      "text/plain": [
       "   Patron Type Code Patron Type Definition  Total Checkouts  Total Renewals  \\\n",
       "0                 5                  Staff               53              15   \n",
       "1                 5                  Staff              480             378   \n",
       "2                 5                  Staff               70              33   \n",
       "3                 5                  Staff             3934            2140   \n",
       "4                 5                  Staff             1118            1035   \n",
       "\n",
       "        Age Range Home Library Code Home Library Definition  \\\n",
       "0             NaN                b2                 Bayview   \n",
       "1             NaN                e9               Excelsior   \n",
       "2  45 to 54 years                n4              Noe Valley   \n",
       "3             NaN                o2              Ocean View   \n",
       "4             NaN                o7                  Ortega   \n",
       "\n",
       "  Circulation Active Month  Circulation Active Year Notice Preference Code  \\\n",
       "0                      Mar                   2023.0                      z   \n",
       "1                      Jun                   2023.0                      z   \n",
       "2                      Jan                   2023.0                      z   \n",
       "3                      Jul                   2023.0                      z   \n",
       "4                      Jul                   2023.0                      z   \n",
       "\n",
       "  Notice Preference Definition  Provided Email Address  \\\n",
       "0                        Email                    True   \n",
       "1                        Email                    True   \n",
       "2                        Email                    True   \n",
       "3                        Email                    True   \n",
       "4                        Email                    True   \n",
       "\n",
       "   Year Patron Registered Within San Francisco County  \n",
       "0                    2003                       False  \n",
       "1                    2003                       False  \n",
       "2                    2011                       False  \n",
       "3                    2003                       False  \n",
       "4                    2003                       False  "
      ]
     },
     "execution_count": 4,
     "metadata": {},
     "output_type": "execute_result"
    }
   ],
   "source": [
    "df.head()"
   ]
  },
  {
   "cell_type": "code",
   "execution_count": 5,
   "id": "7427a19b-43f5-4b5e-bc05-af03765e28bc",
   "metadata": {},
   "outputs": [
    {
     "data": {
      "text/plain": [
       "Year Patron Registered\n",
       "2022    52173\n",
       "2019    44290\n",
       "2003    41034\n",
       "2021    32634\n",
       "2020    32010\n",
       "2017    29320\n",
       "2018    28622\n",
       "2023    26286\n",
       "2016    21719\n",
       "2015    20157\n",
       "2014    15965\n",
       "2013    13330\n",
       "2012    12681\n",
       "2011    12368\n",
       "2009    11391\n",
       "2010    11247\n",
       "2008    10102\n",
       "2007     6484\n",
       "2006     5254\n",
       "2005     4760\n",
       "2004     4463\n",
       "Name: count, dtype: int64"
      ]
     },
     "execution_count": 5,
     "metadata": {},
     "output_type": "execute_result"
    }
   ],
   "source": [
    "df['Year Patron Registered'].value_counts(normalize=False)"
   ]
  },
  {
   "cell_type": "code",
   "execution_count": 6,
   "id": "e686d8ff-fb99-4fa5-8dad-05e959857f0d",
   "metadata": {},
   "outputs": [
    {
     "data": {
      "text/plain": [
       "Year Patron Registered\n",
       "2022    12.0%\n",
       "2019    10.2%\n",
       "2003     9.4%\n",
       "2021     7.5%\n",
       "2020     7.3%\n",
       "2017     6.7%\n",
       "2018     6.6%\n",
       "2023     6.0%\n",
       "2016     5.0%\n",
       "2015     4.6%\n",
       "2014     3.7%\n",
       "2013     3.1%\n",
       "2012     2.9%\n",
       "2011     2.8%\n",
       "2009     2.6%\n",
       "2010     2.6%\n",
       "2008     2.3%\n",
       "2007     1.5%\n",
       "2006     1.2%\n",
       "2005     1.1%\n",
       "2004     1.0%\n",
       "Name: proportion, dtype: object"
      ]
     },
     "execution_count": 6,
     "metadata": {},
     "output_type": "execute_result"
    }
   ],
   "source": [
    "df['Year Patron Registered'].value_counts(normalize=True).mul(100).round(1).astype(str) + '%'"
   ]
  },
  {
   "cell_type": "markdown",
   "id": "d403cd50-3301-4a23-8956-a5c2a8927c7c",
   "metadata": {},
   "source": [
    "3013 wurden 3.1% der Kunden registriert"
   ]
  },
  {
   "cell_type": "code",
   "execution_count": 7,
   "id": "269b40c5-68e4-4e24-997f-1ee5fabe3670",
   "metadata": {},
   "outputs": [
    {
     "data": {
      "text/plain": [
       "Age Range\n",
       "25 to 34 years       21.3%\n",
       "35 to 44 years       18.8%\n",
       "10 to 19 years       15.4%\n",
       "45 to 54 years       11.1%\n",
       "0 to 9 years          7.5%\n",
       "65 to 74 years        7.3%\n",
       "20 to 24 years        5.8%\n",
       "75 years and over     4.4%\n",
       "55 to 59 years        4.4%\n",
       "60 to 64 years        4.1%\n",
       "Name: proportion, dtype: object"
      ]
     },
     "execution_count": 7,
     "metadata": {},
     "output_type": "execute_result"
    }
   ],
   "source": [
    "df['Age Range'].value_counts(normalize=True).mul(100).round(1).astype(str) + '%'"
   ]
  },
  {
   "cell_type": "markdown",
   "id": "f45559d1-a2e7-4728-a579-f84d26cbb677",
   "metadata": {},
   "source": [
    "21,3% der Kunden sind zwischen 25 und 34 Jahre alt"
   ]
  },
  {
   "cell_type": "code",
   "execution_count": 8,
   "id": "66bfda8a-fd9f-4577-9556-2900cf8c562a",
   "metadata": {},
   "outputs": [],
   "source": [
    "df['Age Range'].fillna(\"not specified\", inplace = True)"
   ]
  },
  {
   "cell_type": "code",
   "execution_count": 9,
   "id": "6f803753-1443-457e-b847-e02963a9c1da",
   "metadata": {},
   "outputs": [
    {
     "data": {
      "text/html": [
       "<div>\n",
       "<style scoped>\n",
       "    .dataframe tbody tr th:only-of-type {\n",
       "        vertical-align: middle;\n",
       "    }\n",
       "\n",
       "    .dataframe tbody tr th {\n",
       "        vertical-align: top;\n",
       "    }\n",
       "\n",
       "    .dataframe thead th {\n",
       "        text-align: right;\n",
       "    }\n",
       "</style>\n",
       "<table border=\"1\" class=\"dataframe\">\n",
       "  <thead>\n",
       "    <tr style=\"text-align: right;\">\n",
       "      <th></th>\n",
       "      <th>Patron Type Code</th>\n",
       "      <th>Patron Type Definition</th>\n",
       "      <th>Total Checkouts</th>\n",
       "      <th>Total Renewals</th>\n",
       "      <th>Age Range</th>\n",
       "      <th>Home Library Code</th>\n",
       "      <th>Home Library Definition</th>\n",
       "      <th>Circulation Active Month</th>\n",
       "      <th>Circulation Active Year</th>\n",
       "      <th>Notice Preference Code</th>\n",
       "      <th>Notice Preference Definition</th>\n",
       "      <th>Provided Email Address</th>\n",
       "      <th>Year Patron Registered</th>\n",
       "      <th>Within San Francisco County</th>\n",
       "    </tr>\n",
       "  </thead>\n",
       "  <tbody>\n",
       "    <tr>\n",
       "      <th>0</th>\n",
       "      <td>5</td>\n",
       "      <td>Staff</td>\n",
       "      <td>53</td>\n",
       "      <td>15</td>\n",
       "      <td>not specified</td>\n",
       "      <td>b2</td>\n",
       "      <td>Bayview</td>\n",
       "      <td>Mar</td>\n",
       "      <td>2023.0</td>\n",
       "      <td>z</td>\n",
       "      <td>Email</td>\n",
       "      <td>True</td>\n",
       "      <td>2003</td>\n",
       "      <td>False</td>\n",
       "    </tr>\n",
       "    <tr>\n",
       "      <th>1</th>\n",
       "      <td>5</td>\n",
       "      <td>Staff</td>\n",
       "      <td>480</td>\n",
       "      <td>378</td>\n",
       "      <td>not specified</td>\n",
       "      <td>e9</td>\n",
       "      <td>Excelsior</td>\n",
       "      <td>Jun</td>\n",
       "      <td>2023.0</td>\n",
       "      <td>z</td>\n",
       "      <td>Email</td>\n",
       "      <td>True</td>\n",
       "      <td>2003</td>\n",
       "      <td>False</td>\n",
       "    </tr>\n",
       "    <tr>\n",
       "      <th>2</th>\n",
       "      <td>5</td>\n",
       "      <td>Staff</td>\n",
       "      <td>70</td>\n",
       "      <td>33</td>\n",
       "      <td>45 to 54 years</td>\n",
       "      <td>n4</td>\n",
       "      <td>Noe Valley</td>\n",
       "      <td>Jan</td>\n",
       "      <td>2023.0</td>\n",
       "      <td>z</td>\n",
       "      <td>Email</td>\n",
       "      <td>True</td>\n",
       "      <td>2011</td>\n",
       "      <td>False</td>\n",
       "    </tr>\n",
       "    <tr>\n",
       "      <th>3</th>\n",
       "      <td>5</td>\n",
       "      <td>Staff</td>\n",
       "      <td>3934</td>\n",
       "      <td>2140</td>\n",
       "      <td>not specified</td>\n",
       "      <td>o2</td>\n",
       "      <td>Ocean View</td>\n",
       "      <td>Jul</td>\n",
       "      <td>2023.0</td>\n",
       "      <td>z</td>\n",
       "      <td>Email</td>\n",
       "      <td>True</td>\n",
       "      <td>2003</td>\n",
       "      <td>False</td>\n",
       "    </tr>\n",
       "    <tr>\n",
       "      <th>4</th>\n",
       "      <td>5</td>\n",
       "      <td>Staff</td>\n",
       "      <td>1118</td>\n",
       "      <td>1035</td>\n",
       "      <td>not specified</td>\n",
       "      <td>o7</td>\n",
       "      <td>Ortega</td>\n",
       "      <td>Jul</td>\n",
       "      <td>2023.0</td>\n",
       "      <td>z</td>\n",
       "      <td>Email</td>\n",
       "      <td>True</td>\n",
       "      <td>2003</td>\n",
       "      <td>False</td>\n",
       "    </tr>\n",
       "  </tbody>\n",
       "</table>\n",
       "</div>"
      ],
      "text/plain": [
       "   Patron Type Code Patron Type Definition  Total Checkouts  Total Renewals  \\\n",
       "0                 5                  Staff               53              15   \n",
       "1                 5                  Staff              480             378   \n",
       "2                 5                  Staff               70              33   \n",
       "3                 5                  Staff             3934            2140   \n",
       "4                 5                  Staff             1118            1035   \n",
       "\n",
       "        Age Range Home Library Code Home Library Definition  \\\n",
       "0   not specified                b2                 Bayview   \n",
       "1   not specified                e9               Excelsior   \n",
       "2  45 to 54 years                n4              Noe Valley   \n",
       "3   not specified                o2              Ocean View   \n",
       "4   not specified                o7                  Ortega   \n",
       "\n",
       "  Circulation Active Month  Circulation Active Year Notice Preference Code  \\\n",
       "0                      Mar                   2023.0                      z   \n",
       "1                      Jun                   2023.0                      z   \n",
       "2                      Jan                   2023.0                      z   \n",
       "3                      Jul                   2023.0                      z   \n",
       "4                      Jul                   2023.0                      z   \n",
       "\n",
       "  Notice Preference Definition  Provided Email Address  \\\n",
       "0                        Email                    True   \n",
       "1                        Email                    True   \n",
       "2                        Email                    True   \n",
       "3                        Email                    True   \n",
       "4                        Email                    True   \n",
       "\n",
       "   Year Patron Registered Within San Francisco County  \n",
       "0                    2003                       False  \n",
       "1                    2003                       False  \n",
       "2                    2011                       False  \n",
       "3                    2003                       False  \n",
       "4                    2003                       False  "
      ]
     },
     "execution_count": 9,
     "metadata": {},
     "output_type": "execute_result"
    }
   ],
   "source": [
    "df.head()"
   ]
  },
  {
   "cell_type": "markdown",
   "id": "e9e79e4c-fd17-45ae-8665-d56334d71b41",
   "metadata": {},
   "source": [
    "Die Ersetzung von NaN mit \"not specified\" finde ich eine gute Möglichkeit, wenn die Daten an nicht Daten-affine Personen ausgegeben werden. Ansonsten würde ich NaN belassen. "
   ]
  },
  {
   "cell_type": "code",
   "execution_count": 20,
   "id": "a4ad80bb-09a0-46e1-98c9-a702dd10736b",
   "metadata": {},
   "outputs": [
    {
     "data": {
      "text/plain": [
       "436290"
      ]
     },
     "execution_count": 20,
     "metadata": {},
     "output_type": "execute_result"
    }
   ],
   "source": [
    "u9_email = (df['Age Range'] == '0 to 9 years') & (df['Notice Preference Code'] == 'Email')\n",
    "u9_email.count()"
   ]
  },
  {
   "cell_type": "code",
   "execution_count": 12,
   "id": "6944b460-2de5-4ff0-96f0-8472792abadd",
   "metadata": {},
   "outputs": [],
   "source": [
    "u9_email_anzahl = u9_email.count()"
   ]
  },
  {
   "cell_type": "code",
   "execution_count": 21,
   "id": "613f3e1d-9c90-4024-81ed-875e8c8bec96",
   "metadata": {},
   "outputs": [
    {
     "data": {
      "text/plain": [
       "19.0"
      ]
     },
     "execution_count": 21,
     "metadata": {},
     "output_type": "execute_result"
    }
   ],
   "source": [
    "df['Total Checkouts'].quantile(q=0.60)"
   ]
  },
  {
   "cell_type": "code",
   "execution_count": 22,
   "id": "f6fb7dc8-65f8-42e4-a19d-2b51122ea692",
   "metadata": {},
   "outputs": [
    {
     "data": {
      "text/plain": [
       "0    25 to 34 years\n",
       "Name: Age Range, dtype: object"
      ]
     },
     "execution_count": 22,
     "metadata": {},
     "output_type": "execute_result"
    }
   ],
   "source": [
    "df['Age Range'].mode()"
   ]
  },
  {
   "cell_type": "code",
   "execution_count": null,
   "id": "e71a7acd-ff33-4bea-9a1d-75e329bc016f",
   "metadata": {},
   "outputs": [],
   "source": []
  }
 ],
 "metadata": {
  "kernelspec": {
   "display_name": "Python 3 (ipykernel)",
   "language": "python",
   "name": "python3"
  },
  "language_info": {
   "codemirror_mode": {
    "name": "ipython",
    "version": 3
   },
   "file_extension": ".py",
   "mimetype": "text/x-python",
   "name": "python",
   "nbconvert_exporter": "python",
   "pygments_lexer": "ipython3",
   "version": "3.8.18"
  }
 },
 "nbformat": 4,
 "nbformat_minor": 5
}
